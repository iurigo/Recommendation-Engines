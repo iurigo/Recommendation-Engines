{
 "cells": [
  {
   "cell_type": "code",
   "execution_count": 32,
   "metadata": {
    "collapsed": true,
    "slideshow": {
     "slide_type": "skip"
    }
   },
   "outputs": [],
   "source": [
    "import pandas as pd\n",
    "import numpy as np\n",
    "import matplotlib.pyplot as plt\n",
    "%matplotlib inline"
   ]
  },
  {
   "cell_type": "markdown",
   "metadata": {
    "slideshow": {
     "slide_type": "slide"
    }
   },
   "source": [
    "# Recommendation Engines\n",
    "\n"
   ]
  },
  {
   "cell_type": "markdown",
   "metadata": {
    "slideshow": {
     "slide_type": "slide"
    }
   },
   "source": [
    "### LEARNING OBJECTIVES\n",
    "*After this lesson, you will be able to:*\n",
    "- Understand the basic types of recommendation engine\n",
    "- Calculate basic recommendations"
   ]
  },
  {
   "cell_type": "markdown",
   "metadata": {
    "slideshow": {
     "slide_type": "slide"
    }
   },
   "source": [
    "## What is a recommendation engine?\n",
    "\n",
    "At its most basic: a system designed to match users to things that they will like.\n",
    "\n",
    "- The \"things\" can be products, brands, media, or even other people. \n",
    "- Ideally, they should be things the user doesn't know about. \n",
    "- **The goal is to rank all the possible things that are available to the user and to only present the top items**"
   ]
  },
  {
   "cell_type": "markdown",
   "metadata": {
    "slideshow": {
     "slide_type": "slide"
    }
   },
   "source": [
    "## Who uses recommendation systems?"
   ]
  },
  {
   "cell_type": "markdown",
   "metadata": {
    "slideshow": {
     "slide_type": "slide"
    }
   },
   "source": [
    "![](https://cdn1.vox-cdn.com/thumbor/lazP2aCcxVUI5RnbcxWpmjr7MU0=/cdn0.vox-cdn.com/uploads/chorus_asset/file/4109214/Discover_Weekly_Snapshot.0.png)"
   ]
  },
  {
   "cell_type": "markdown",
   "metadata": {
    "slideshow": {
     "slide_type": "slide"
    }
   },
   "source": [
    "![](https://pmcvariety.files.wordpress.com/2015/09/pandora-logo.jpg?w=670&h=377&crop=1)"
   ]
  },
  {
   "cell_type": "markdown",
   "metadata": {
    "slideshow": {
     "slide_type": "slide"
    }
   },
   "source": [
    "![](http://techlogitic.com/wp-content/uploads/2015/11/rs_560x415-140917143530-1024.Tinder-Logo.ms_.091714_copy.jpg)"
   ]
  },
  {
   "cell_type": "markdown",
   "metadata": {
    "slideshow": {
     "slide_type": "slide"
    }
   },
   "source": [
    "![](https://pbs.twimg.com/profile_images/744949842720391168/wuzyVTTX.jpg)"
   ]
  },
  {
   "cell_type": "markdown",
   "metadata": {
    "slideshow": {
     "slide_type": "slide"
    }
   },
   "source": [
    "## The data\n",
    "\n",
    "What kind of data do we need?"
   ]
  },
  {
   "cell_type": "markdown",
   "metadata": {
    "slideshow": {
     "slide_type": "slide"
    }
   },
   "source": [
    "## How do we do it?\n"
   ]
  },
  {
   "cell_type": "markdown",
   "metadata": {
    "slideshow": {
     "slide_type": "-"
    }
   },
   "source": [
    "Broadly we two options:\n",
    "- Based upon similar people\n",
    "- Based upon similar characteristics of the item"
   ]
  },
  {
   "cell_type": "markdown",
   "metadata": {
    "slideshow": {
     "slide_type": "fragment"
    }
   },
   "source": [
    "- The first is called **Collaborative Filtering**\n",
    "- The second is called **Content-based Filtering**"
   ]
  },
  {
   "cell_type": "markdown",
   "metadata": {
    "slideshow": {
     "slide_type": "slide"
    }
   },
   "source": [
    "## How do we get the data we need?\n",
    "\n",
    "This is hard.  To make good collaborative filtering recommendation engines, you need a lot of data about user preferences.  \n",
    "\n",
    "When you don't have a lot of this, you have to do what's called 'cold start.'\n",
    "\n",
    "This is easier with content-based filtering, so we'll start there."
   ]
  },
  {
   "cell_type": "markdown",
   "metadata": {
    "slideshow": {
     "slide_type": "slide"
    }
   },
   "source": [
    "## Content-based Filtering\n",
    "\n"
   ]
  },
  {
   "cell_type": "markdown",
   "metadata": {
    "slideshow": {
     "slide_type": "-"
    }
   },
   "source": [
    "This uses characteristics of the products to make recommendations. The idea is that if you like the features of product X, then finding a product that has similar characteristics will tell us that you're likely to like it as well.\n",
    "\n",
    "\n",
    "The quintessential example of this is Pandora with it's musical genome. Each song is rated on ~450 characteristics by a trained musicologist."
   ]
  },
  {
   "cell_type": "code",
   "execution_count": 33,
   "metadata": {
    "collapsed": true,
    "slideshow": {
     "slide_type": "slide"
    }
   },
   "outputs": [],
   "source": [
    "import random\n",
    "random.seed(12)\n",
    "songs = [\"song\"+str(i) for i in range(1,11)]\n",
    "a = [np.random.randint(1,6) for i in range(1,11)]\n",
    "b = [np.random.randint(1,6) for i in range(1,11)]\n",
    "c = [np.random.randint(1,6) for i in range(1,11)]\n",
    "d = [np.random.randint(1,6) for i in range(1,11)]\n",
    "e = [np.random.randint(1,6) for i in range(1,11)]\n",
    "f = [np.random.randint(1,6) for i in range(1,11)]\n",
    "song_df = pd.DataFrame(zip(songs, a, b, c, d, e, f), columns = ['song','tempo', 'excitement', 'volume', \\\n",
    "                                                      'percussion', 'instrumental', 'structure']).set_index('song')\n"
   ]
  },
  {
   "cell_type": "code",
   "execution_count": 34,
   "metadata": {
    "slideshow": {
     "slide_type": "-"
    }
   },
   "outputs": [
    {
     "data": {
      "text/html": [
       "<div>\n",
       "<style>\n",
       "    .dataframe thead tr:only-child th {\n",
       "        text-align: right;\n",
       "    }\n",
       "\n",
       "    .dataframe thead th {\n",
       "        text-align: left;\n",
       "    }\n",
       "\n",
       "    .dataframe tbody tr th {\n",
       "        vertical-align: top;\n",
       "    }\n",
       "</style>\n",
       "<table border=\"1\" class=\"dataframe\">\n",
       "  <thead>\n",
       "    <tr style=\"text-align: right;\">\n",
       "      <th></th>\n",
       "      <th>tempo</th>\n",
       "      <th>excitement</th>\n",
       "      <th>volume</th>\n",
       "      <th>percussion</th>\n",
       "      <th>instrumental</th>\n",
       "      <th>structure</th>\n",
       "    </tr>\n",
       "    <tr>\n",
       "      <th>song</th>\n",
       "      <th></th>\n",
       "      <th></th>\n",
       "      <th></th>\n",
       "      <th></th>\n",
       "      <th></th>\n",
       "      <th></th>\n",
       "    </tr>\n",
       "  </thead>\n",
       "  <tbody>\n",
       "    <tr>\n",
       "      <th>song1</th>\n",
       "      <td>5</td>\n",
       "      <td>4</td>\n",
       "      <td>4</td>\n",
       "      <td>5</td>\n",
       "      <td>3</td>\n",
       "      <td>4</td>\n",
       "    </tr>\n",
       "    <tr>\n",
       "      <th>song2</th>\n",
       "      <td>2</td>\n",
       "      <td>1</td>\n",
       "      <td>1</td>\n",
       "      <td>4</td>\n",
       "      <td>2</td>\n",
       "      <td>2</td>\n",
       "    </tr>\n",
       "    <tr>\n",
       "      <th>song3</th>\n",
       "      <td>3</td>\n",
       "      <td>3</td>\n",
       "      <td>1</td>\n",
       "      <td>1</td>\n",
       "      <td>2</td>\n",
       "      <td>1</td>\n",
       "    </tr>\n",
       "    <tr>\n",
       "      <th>song4</th>\n",
       "      <td>4</td>\n",
       "      <td>5</td>\n",
       "      <td>4</td>\n",
       "      <td>4</td>\n",
       "      <td>1</td>\n",
       "      <td>3</td>\n",
       "    </tr>\n",
       "    <tr>\n",
       "      <th>song5</th>\n",
       "      <td>5</td>\n",
       "      <td>5</td>\n",
       "      <td>4</td>\n",
       "      <td>4</td>\n",
       "      <td>1</td>\n",
       "      <td>3</td>\n",
       "    </tr>\n",
       "    <tr>\n",
       "      <th>song6</th>\n",
       "      <td>5</td>\n",
       "      <td>2</td>\n",
       "      <td>5</td>\n",
       "      <td>1</td>\n",
       "      <td>2</td>\n",
       "      <td>4</td>\n",
       "    </tr>\n",
       "    <tr>\n",
       "      <th>song7</th>\n",
       "      <td>5</td>\n",
       "      <td>3</td>\n",
       "      <td>2</td>\n",
       "      <td>2</td>\n",
       "      <td>2</td>\n",
       "      <td>2</td>\n",
       "    </tr>\n",
       "    <tr>\n",
       "      <th>song8</th>\n",
       "      <td>5</td>\n",
       "      <td>2</td>\n",
       "      <td>4</td>\n",
       "      <td>1</td>\n",
       "      <td>5</td>\n",
       "      <td>4</td>\n",
       "    </tr>\n",
       "    <tr>\n",
       "      <th>song9</th>\n",
       "      <td>5</td>\n",
       "      <td>5</td>\n",
       "      <td>3</td>\n",
       "      <td>1</td>\n",
       "      <td>3</td>\n",
       "      <td>2</td>\n",
       "    </tr>\n",
       "    <tr>\n",
       "      <th>song10</th>\n",
       "      <td>4</td>\n",
       "      <td>1</td>\n",
       "      <td>5</td>\n",
       "      <td>5</td>\n",
       "      <td>5</td>\n",
       "      <td>5</td>\n",
       "    </tr>\n",
       "  </tbody>\n",
       "</table>\n",
       "</div>"
      ],
      "text/plain": [
       "        tempo  excitement  volume  percussion  instrumental  structure\n",
       "song                                                                  \n",
       "song1       5           4       4           5             3          4\n",
       "song2       2           1       1           4             2          2\n",
       "song3       3           3       1           1             2          1\n",
       "song4       4           5       4           4             1          3\n",
       "song5       5           5       4           4             1          3\n",
       "song6       5           2       5           1             2          4\n",
       "song7       5           3       2           2             2          2\n",
       "song8       5           2       4           1             5          4\n",
       "song9       5           5       3           1             3          2\n",
       "song10      4           1       5           5             5          5"
      ]
     },
     "execution_count": 34,
     "metadata": {},
     "output_type": "execute_result"
    }
   ],
   "source": [
    "song_df"
   ]
  },
  {
   "cell_type": "markdown",
   "metadata": {
    "slideshow": {
     "slide_type": "slide"
    }
   },
   "source": [
    "## What is similarity?\n",
    "\n",
    "In order to calculate how similar two things are, we need a similarity metric!\n",
    "\n",
    ">Check: what could we use?"
   ]
  },
  {
   "cell_type": "markdown",
   "metadata": {
    "slideshow": {
     "slide_type": "slide"
    }
   },
   "source": [
    "Some typical measure are:\n",
    "- Euclidean distance\n",
    "- Pearson correlation\n",
    "- Cosine similarity\n"
   ]
  },
  {
   "cell_type": "markdown",
   "metadata": {
    "slideshow": {
     "slide_type": "slide"
    }
   },
   "source": [
    "## Cosine Similarity\n",
    "\n",
    "[formula](https://en.wikipedia.org/wiki/Cosine_similarity#Definition)\n",
    "\n",
    "Cosine similarity uses the cosine between two vectors to compute a scalar value that represents how closely related these vectors are. \n",
    "- If the vectors have an angle of 0 (they are pointing in exactly the same direction), then the cosine similarity is 1 and they are perfectly similar. \n",
    "- If they point in completely different directions (the angle is 90 degrees), then the cosine similarity is 0 and they are unrelated.\n",
    "- If they point in opposite directions, then the cosine similarity is negative, and they are dissimilar."
   ]
  },
  {
   "cell_type": "markdown",
   "metadata": {
    "slideshow": {
     "slide_type": "slide"
    }
   },
   "source": [
    "## Example\n",
    "\n",
    "Let's calculate the most similar song to song 1"
   ]
  },
  {
   "cell_type": "code",
   "execution_count": 35,
   "metadata": {
    "collapsed": true,
    "slideshow": {
     "slide_type": "-"
    }
   },
   "outputs": [],
   "source": [
    "from sklearn.metrics.pairwise import cosine_similarity, euclidean_distances, cosine_distances"
   ]
  },
  {
   "cell_type": "code",
   "execution_count": 36,
   "metadata": {
    "slideshow": {
     "slide_type": "-"
    }
   },
   "outputs": [
    {
     "data": {
      "text/html": [
       "<div>\n",
       "<style>\n",
       "    .dataframe thead tr:only-child th {\n",
       "        text-align: right;\n",
       "    }\n",
       "\n",
       "    .dataframe thead th {\n",
       "        text-align: left;\n",
       "    }\n",
       "\n",
       "    .dataframe tbody tr th {\n",
       "        vertical-align: top;\n",
       "    }\n",
       "</style>\n",
       "<table border=\"1\" class=\"dataframe\">\n",
       "  <thead>\n",
       "    <tr style=\"text-align: right;\">\n",
       "      <th>song</th>\n",
       "      <th>song1</th>\n",
       "      <th>song2</th>\n",
       "      <th>song3</th>\n",
       "      <th>song4</th>\n",
       "      <th>song5</th>\n",
       "      <th>song6</th>\n",
       "      <th>song7</th>\n",
       "      <th>song8</th>\n",
       "      <th>song9</th>\n",
       "      <th>song10</th>\n",
       "    </tr>\n",
       "    <tr>\n",
       "      <th>song</th>\n",
       "      <th></th>\n",
       "      <th></th>\n",
       "      <th></th>\n",
       "      <th></th>\n",
       "      <th></th>\n",
       "      <th></th>\n",
       "      <th></th>\n",
       "      <th></th>\n",
       "      <th></th>\n",
       "      <th></th>\n",
       "    </tr>\n",
       "  </thead>\n",
       "  <tbody>\n",
       "    <tr>\n",
       "      <th>song1</th>\n",
       "      <td>1.000000</td>\n",
       "      <td>0.917806</td>\n",
       "      <td>0.889398</td>\n",
       "      <td>0.965629</td>\n",
       "      <td>0.967577</td>\n",
       "      <td>0.893033</td>\n",
       "      <td>0.943349</td>\n",
       "      <td>0.880983</td>\n",
       "      <td>0.893869</td>\n",
       "      <td>0.929498</td>\n",
       "    </tr>\n",
       "    <tr>\n",
       "      <th>song2</th>\n",
       "      <td>0.917806</td>\n",
       "      <td>1.000000</td>\n",
       "      <td>0.730297</td>\n",
       "      <td>0.821645</td>\n",
       "      <td>0.818491</td>\n",
       "      <td>0.695701</td>\n",
       "      <td>0.800417</td>\n",
       "      <td>0.743812</td>\n",
       "      <td>0.683798</td>\n",
       "      <td>0.911465</td>\n",
       "    </tr>\n",
       "    <tr>\n",
       "      <th>song3</th>\n",
       "      <td>0.889398</td>\n",
       "      <td>0.730297</td>\n",
       "      <td>1.000000</td>\n",
       "      <td>0.878114</td>\n",
       "      <td>0.896612</td>\n",
       "      <td>0.808290</td>\n",
       "      <td>0.961665</td>\n",
       "      <td>0.857690</td>\n",
       "      <td>0.983146</td>\n",
       "      <td>0.739600</td>\n",
       "    </tr>\n",
       "    <tr>\n",
       "      <th>song4</th>\n",
       "      <td>0.965629</td>\n",
       "      <td>0.821645</td>\n",
       "      <td>0.878114</td>\n",
       "      <td>1.000000</td>\n",
       "      <td>0.995603</td>\n",
       "      <td>0.861865</td>\n",
       "      <td>0.915858</td>\n",
       "      <td>0.788454</td>\n",
       "      <td>0.899285</td>\n",
       "      <td>0.821964</td>\n",
       "    </tr>\n",
       "    <tr>\n",
       "      <th>song5</th>\n",
       "      <td>0.967577</td>\n",
       "      <td>0.818491</td>\n",
       "      <td>0.896612</td>\n",
       "      <td>0.995603</td>\n",
       "      <td>1.000000</td>\n",
       "      <td>0.878817</td>\n",
       "      <td>0.943629</td>\n",
       "      <td>0.804783</td>\n",
       "      <td>0.915179</td>\n",
       "      <td>0.819279</td>\n",
       "    </tr>\n",
       "  </tbody>\n",
       "</table>\n",
       "</div>"
      ],
      "text/plain": [
       "song      song1     song2     song3     song4     song5     song6     song7  \\\n",
       "song                                                                          \n",
       "song1  1.000000  0.917806  0.889398  0.965629  0.967577  0.893033  0.943349   \n",
       "song2  0.917806  1.000000  0.730297  0.821645  0.818491  0.695701  0.800417   \n",
       "song3  0.889398  0.730297  1.000000  0.878114  0.896612  0.808290  0.961665   \n",
       "song4  0.965629  0.821645  0.878114  1.000000  0.995603  0.861865  0.915858   \n",
       "song5  0.967577  0.818491  0.896612  0.995603  1.000000  0.878817  0.943629   \n",
       "\n",
       "song      song8     song9    song10  \n",
       "song                                 \n",
       "song1  0.880983  0.893869  0.929498  \n",
       "song2  0.743812  0.683798  0.911465  \n",
       "song3  0.857690  0.983146  0.739600  \n",
       "song4  0.788454  0.899285  0.821964  \n",
       "song5  0.804783  0.915179  0.819279  "
      ]
     },
     "execution_count": 36,
     "metadata": {},
     "output_type": "execute_result"
    }
   ],
   "source": [
    "# cosine sim\n",
    "cos_df = pd.DataFrame(cosine_similarity(song_df, song_df), index=song_df.index, columns=song_df.index)\n",
    "cos_df.head()"
   ]
  },
  {
   "cell_type": "markdown",
   "metadata": {
    "slideshow": {
     "slide_type": "-"
    }
   },
   "source": [
    ">Check: do we want cosine similarity to be high or low?"
   ]
  },
  {
   "cell_type": "code",
   "execution_count": 37,
   "metadata": {
    "slideshow": {
     "slide_type": "slide"
    }
   },
   "outputs": [
    {
     "data": {
      "text/plain": [
       "song\n",
       "song1     1.000000\n",
       "song5     0.967577\n",
       "song4     0.965629\n",
       "song7     0.943349\n",
       "song10    0.929498\n",
       "song2     0.917806\n",
       "song9     0.893869\n",
       "song6     0.893033\n",
       "song3     0.889398\n",
       "song8     0.880983\n",
       "Name: song1, dtype: float64"
      ]
     },
     "execution_count": 37,
     "metadata": {},
     "output_type": "execute_result"
    }
   ],
   "source": [
    "cos_df.loc['song1',:].sort_values(ascending=False)"
   ]
  },
  {
   "cell_type": "markdown",
   "metadata": {
    "slideshow": {
     "slide_type": "-"
    }
   },
   "source": [
    "Song 5 is most similar to song 1"
   ]
  },
  {
   "cell_type": "code",
   "execution_count": 38,
   "metadata": {
    "slideshow": {
     "slide_type": "slide"
    }
   },
   "outputs": [
    {
     "data": {
      "text/html": [
       "<div>\n",
       "<style>\n",
       "    .dataframe thead tr:only-child th {\n",
       "        text-align: right;\n",
       "    }\n",
       "\n",
       "    .dataframe thead th {\n",
       "        text-align: left;\n",
       "    }\n",
       "\n",
       "    .dataframe tbody tr th {\n",
       "        vertical-align: top;\n",
       "    }\n",
       "</style>\n",
       "<table border=\"1\" class=\"dataframe\">\n",
       "  <thead>\n",
       "    <tr style=\"text-align: right;\">\n",
       "      <th></th>\n",
       "      <th>tempo</th>\n",
       "      <th>excitement</th>\n",
       "      <th>volume</th>\n",
       "      <th>percussion</th>\n",
       "      <th>instrumental</th>\n",
       "      <th>structure</th>\n",
       "    </tr>\n",
       "    <tr>\n",
       "      <th>song</th>\n",
       "      <th></th>\n",
       "      <th></th>\n",
       "      <th></th>\n",
       "      <th></th>\n",
       "      <th></th>\n",
       "      <th></th>\n",
       "    </tr>\n",
       "  </thead>\n",
       "  <tbody>\n",
       "    <tr>\n",
       "      <th>song1</th>\n",
       "      <td>5</td>\n",
       "      <td>4</td>\n",
       "      <td>4</td>\n",
       "      <td>5</td>\n",
       "      <td>3</td>\n",
       "      <td>4</td>\n",
       "    </tr>\n",
       "    <tr>\n",
       "      <th>song5</th>\n",
       "      <td>5</td>\n",
       "      <td>5</td>\n",
       "      <td>4</td>\n",
       "      <td>4</td>\n",
       "      <td>1</td>\n",
       "      <td>3</td>\n",
       "    </tr>\n",
       "  </tbody>\n",
       "</table>\n",
       "</div>"
      ],
      "text/plain": [
       "       tempo  excitement  volume  percussion  instrumental  structure\n",
       "song                                                                 \n",
       "song1      5           4       4           5             3          4\n",
       "song5      5           5       4           4             1          3"
      ]
     },
     "execution_count": 38,
     "metadata": {},
     "output_type": "execute_result"
    }
   ],
   "source": [
    "song_df.loc[['song1', 'song5'],:]"
   ]
  },
  {
   "cell_type": "code",
   "execution_count": 39,
   "metadata": {
    "slideshow": {
     "slide_type": "slide"
    }
   },
   "outputs": [
    {
     "data": {
      "text/html": [
       "<div>\n",
       "<style>\n",
       "    .dataframe thead tr:only-child th {\n",
       "        text-align: right;\n",
       "    }\n",
       "\n",
       "    .dataframe thead th {\n",
       "        text-align: left;\n",
       "    }\n",
       "\n",
       "    .dataframe tbody tr th {\n",
       "        vertical-align: top;\n",
       "    }\n",
       "</style>\n",
       "<table border=\"1\" class=\"dataframe\">\n",
       "  <thead>\n",
       "    <tr style=\"text-align: right;\">\n",
       "      <th>song</th>\n",
       "      <th>song1</th>\n",
       "      <th>song2</th>\n",
       "      <th>song3</th>\n",
       "      <th>song4</th>\n",
       "      <th>song5</th>\n",
       "      <th>song6</th>\n",
       "      <th>song7</th>\n",
       "      <th>song8</th>\n",
       "      <th>song9</th>\n",
       "      <th>song10</th>\n",
       "    </tr>\n",
       "    <tr>\n",
       "      <th>song</th>\n",
       "      <th></th>\n",
       "      <th></th>\n",
       "      <th></th>\n",
       "      <th></th>\n",
       "      <th></th>\n",
       "      <th></th>\n",
       "      <th></th>\n",
       "      <th></th>\n",
       "      <th></th>\n",
       "      <th></th>\n",
       "    </tr>\n",
       "  </thead>\n",
       "  <tbody>\n",
       "    <tr>\n",
       "      <th>song1</th>\n",
       "      <td>0.000000</td>\n",
       "      <td>5.744563</td>\n",
       "      <td>6.324555</td>\n",
       "      <td>2.828427</td>\n",
       "      <td>2.645751</td>\n",
       "      <td>4.690416</td>\n",
       "      <td>4.358899</td>\n",
       "      <td>4.898979</td>\n",
       "      <td>4.690416</td>\n",
       "      <td>4.000000</td>\n",
       "    </tr>\n",
       "    <tr>\n",
       "      <th>song2</th>\n",
       "      <td>5.744563</td>\n",
       "      <td>0.000000</td>\n",
       "      <td>3.872983</td>\n",
       "      <td>5.567764</td>\n",
       "      <td>6.000000</td>\n",
       "      <td>6.244998</td>\n",
       "      <td>4.242641</td>\n",
       "      <td>6.403124</td>\n",
       "      <td>6.244998</td>\n",
       "      <td>6.244998</td>\n",
       "    </tr>\n",
       "    <tr>\n",
       "      <th>song3</th>\n",
       "      <td>6.324555</td>\n",
       "      <td>3.872983</td>\n",
       "      <td>0.000000</td>\n",
       "      <td>5.291503</td>\n",
       "      <td>5.567764</td>\n",
       "      <td>5.477226</td>\n",
       "      <td>2.645751</td>\n",
       "      <td>5.656854</td>\n",
       "      <td>3.741657</td>\n",
       "      <td>7.874008</td>\n",
       "    </tr>\n",
       "    <tr>\n",
       "      <th>song4</th>\n",
       "      <td>2.828427</td>\n",
       "      <td>5.567764</td>\n",
       "      <td>5.291503</td>\n",
       "      <td>0.000000</td>\n",
       "      <td>1.000000</td>\n",
       "      <td>4.690416</td>\n",
       "      <td>3.872983</td>\n",
       "      <td>6.000000</td>\n",
       "      <td>4.000000</td>\n",
       "      <td>6.164414</td>\n",
       "    </tr>\n",
       "    <tr>\n",
       "      <th>song5</th>\n",
       "      <td>2.645751</td>\n",
       "      <td>6.000000</td>\n",
       "      <td>5.567764</td>\n",
       "      <td>1.000000</td>\n",
       "      <td>0.000000</td>\n",
       "      <td>4.582576</td>\n",
       "      <td>3.741657</td>\n",
       "      <td>5.916080</td>\n",
       "      <td>3.872983</td>\n",
       "      <td>6.244998</td>\n",
       "    </tr>\n",
       "  </tbody>\n",
       "</table>\n",
       "</div>"
      ],
      "text/plain": [
       "song      song1     song2     song3     song4     song5     song6     song7  \\\n",
       "song                                                                          \n",
       "song1  0.000000  5.744563  6.324555  2.828427  2.645751  4.690416  4.358899   \n",
       "song2  5.744563  0.000000  3.872983  5.567764  6.000000  6.244998  4.242641   \n",
       "song3  6.324555  3.872983  0.000000  5.291503  5.567764  5.477226  2.645751   \n",
       "song4  2.828427  5.567764  5.291503  0.000000  1.000000  4.690416  3.872983   \n",
       "song5  2.645751  6.000000  5.567764  1.000000  0.000000  4.582576  3.741657   \n",
       "\n",
       "song      song8     song9    song10  \n",
       "song                                 \n",
       "song1  4.898979  4.690416  4.000000  \n",
       "song2  6.403124  6.244998  6.244998  \n",
       "song3  5.656854  3.741657  7.874008  \n",
       "song4  6.000000  4.000000  6.164414  \n",
       "song5  5.916080  3.872983  6.244998  "
      ]
     },
     "execution_count": 39,
     "metadata": {},
     "output_type": "execute_result"
    }
   ],
   "source": [
    "# euclidean distance\n",
    "euc_df = pd.DataFrame(euclidean_distances(song_df, song_df), index=song_df.index, columns=song_df.index)\n",
    "euc_df.head()"
   ]
  },
  {
   "cell_type": "markdown",
   "metadata": {
    "slideshow": {
     "slide_type": "-"
    }
   },
   "source": [
    ">Check: do we want these to be high or low?"
   ]
  },
  {
   "cell_type": "code",
   "execution_count": 40,
   "metadata": {
    "slideshow": {
     "slide_type": "slide"
    }
   },
   "outputs": [
    {
     "data": {
      "text/plain": [
       "song\n",
       "song1     0.000000\n",
       "song5     2.645751\n",
       "song4     2.828427\n",
       "song10    4.000000\n",
       "song7     4.358899\n",
       "song6     4.690416\n",
       "song9     4.690416\n",
       "song8     4.898979\n",
       "song2     5.744563\n",
       "song3     6.324555\n",
       "Name: song1, dtype: float64"
      ]
     },
     "execution_count": 40,
     "metadata": {},
     "output_type": "execute_result"
    }
   ],
   "source": [
    "euc_df.loc['song1',:].sort_values(ascending=True)"
   ]
  },
  {
   "cell_type": "markdown",
   "metadata": {
    "slideshow": {
     "slide_type": "-"
    }
   },
   "source": [
    "Song 5 is most similar to song 1"
   ]
  },
  {
   "cell_type": "code",
   "execution_count": 65,
   "metadata": {
    "slideshow": {
     "slide_type": "slide"
    }
   },
   "outputs": [
    {
     "data": {
      "text/html": [
       "<div>\n",
       "<style>\n",
       "    .dataframe thead tr:only-child th {\n",
       "        text-align: right;\n",
       "    }\n",
       "\n",
       "    .dataframe thead th {\n",
       "        text-align: left;\n",
       "    }\n",
       "\n",
       "    .dataframe tbody tr th {\n",
       "        vertical-align: top;\n",
       "    }\n",
       "</style>\n",
       "<table border=\"1\" class=\"dataframe\">\n",
       "  <thead>\n",
       "    <tr style=\"text-align: right;\">\n",
       "      <th></th>\n",
       "      <th>tempo</th>\n",
       "      <th>excitement</th>\n",
       "      <th>volume</th>\n",
       "      <th>percussion</th>\n",
       "      <th>instrumental</th>\n",
       "      <th>structure</th>\n",
       "    </tr>\n",
       "    <tr>\n",
       "      <th>song</th>\n",
       "      <th></th>\n",
       "      <th></th>\n",
       "      <th></th>\n",
       "      <th></th>\n",
       "      <th></th>\n",
       "      <th></th>\n",
       "    </tr>\n",
       "  </thead>\n",
       "  <tbody>\n",
       "    <tr>\n",
       "      <th>song1</th>\n",
       "      <td>5</td>\n",
       "      <td>4</td>\n",
       "      <td>4</td>\n",
       "      <td>5</td>\n",
       "      <td>3</td>\n",
       "      <td>4</td>\n",
       "    </tr>\n",
       "    <tr>\n",
       "      <th>song5</th>\n",
       "      <td>5</td>\n",
       "      <td>5</td>\n",
       "      <td>4</td>\n",
       "      <td>4</td>\n",
       "      <td>1</td>\n",
       "      <td>3</td>\n",
       "    </tr>\n",
       "  </tbody>\n",
       "</table>\n",
       "</div>"
      ],
      "text/plain": [
       "       tempo  excitement  volume  percussion  instrumental  structure\n",
       "song                                                                 \n",
       "song1      5           4       4           5             3          4\n",
       "song5      5           5       4           4             1          3"
      ]
     },
     "execution_count": 65,
     "metadata": {},
     "output_type": "execute_result"
    }
   ],
   "source": [
    "song_df.loc[['song1', 'song5'],:]"
   ]
  },
  {
   "cell_type": "markdown",
   "metadata": {
    "slideshow": {
     "slide_type": "slide"
    }
   },
   "source": [
    "## How can we make recommendations using this?"
   ]
  },
  {
   "cell_type": "markdown",
   "metadata": {
    "slideshow": {
     "slide_type": "-"
    }
   },
   "source": [
    "I could just recommend the most similar song to one you tell me you like.  \n",
    "\n",
    "But what if you don't value the features equally?"
   ]
  },
  {
   "cell_type": "markdown",
   "metadata": {
    "slideshow": {
     "slide_type": "fragment"
    }
   },
   "source": [
    "Instead of asking you to tell me a song you like, I could ask you to rank / score the importance of the features, and make recommendations on the basis of that."
   ]
  },
  {
   "cell_type": "code",
   "execution_count": 42,
   "metadata": {
    "slideshow": {
     "slide_type": "slide"
    }
   },
   "outputs": [
    {
     "data": {
      "text/plain": [
       "[('song3', 26),\n",
       " ('song2', 37),\n",
       " ('song7', 37),\n",
       " ('song9', 44),\n",
       " ('song6', 46),\n",
       " ('song8', 53),\n",
       " ('song4', 57),\n",
       " ('song5', 57),\n",
       " ('song1', 69),\n",
       " ('song10', 73)]"
      ]
     },
     "execution_count": 42,
     "metadata": {},
     "output_type": "execute_result"
    }
   ],
   "source": [
    "feature_importance = [0,3,2,4,3,5]\n",
    "\n",
    "recom = []\n",
    "for i in range(len(song_df)):\n",
    "    recom.append((song_df.index[i],np.dot(feature_importance, song_df.iloc[i,:])))\n",
    "recom.sort(key=lambda x: x[1])\n",
    "recom"
   ]
  },
  {
   "cell_type": "markdown",
   "metadata": {
    "slideshow": {
     "slide_type": "slide"
    }
   },
   "source": [
    "We would recommend song 10"
   ]
  },
  {
   "cell_type": "code",
   "execution_count": 43,
   "metadata": {
    "slideshow": {
     "slide_type": "-"
    }
   },
   "outputs": [
    {
     "name": "stdout",
     "output_type": "stream",
     "text": [
      "tempo           4\n",
      "excitement      5\n",
      "volume          4\n",
      "percussion      4\n",
      "instrumental    1\n",
      "structure       3\n",
      "Name: song4, dtype: int64\n",
      "[0, 3, 2, 4, 3, 5]\n"
     ]
    }
   ],
   "source": [
    "print song_df.loc['song4', :]\n",
    "print feature_importance"
   ]
  },
  {
   "cell_type": "markdown",
   "metadata": {
    "slideshow": {
     "slide_type": "slide"
    }
   },
   "source": [
    "## Collaborative Filtering"
   ]
  },
  {
   "cell_type": "markdown",
   "metadata": {
    "slideshow": {
     "slide_type": "-"
    }
   },
   "source": [
    "There are two big types:\n",
    "- user-item\n",
    "- item-item"
   ]
  },
  {
   "cell_type": "markdown",
   "metadata": {
    "slideshow": {
     "slide_type": "slide"
    }
   },
   "source": [
    "## User-item\n",
    "\n",
    "We'll first look at user-item filtering. The idea behind this method is finding your taste **doppelgänger**. This is the person who is most similar to you based upon the ratings both of you have given to a mix of products.\n",
    "\n",
    "So, someone who likes the same stuff as you also likes this...."
   ]
  },
  {
   "cell_type": "markdown",
   "metadata": {
    "slideshow": {
     "slide_type": "slide"
    }
   },
   "source": [
    "<img src=\"http://i.imgur.com/fOn04Tj.png\" width=600px align='center'>"
   ]
  },
  {
   "cell_type": "markdown",
   "metadata": {
    "slideshow": {
     "slide_type": "slide"
    }
   },
   "source": [
    "<img src=\"http://i.imgur.com/R0dwkgp.png\">"
   ]
  },
  {
   "cell_type": "markdown",
   "metadata": {
    "slideshow": {
     "slide_type": "slide"
    }
   },
   "source": [
    "<img src=\"http://i.imgur.com/B1ASjVi.png\">"
   ]
  },
  {
   "cell_type": "markdown",
   "metadata": {
    "slideshow": {
     "slide_type": "slide"
    }
   },
   "source": [
    "<img src=\"http://i.dailymail.co.uk/i/pix/2016/06/08/20/3510881300000578-0-image-a-1_1465413237479.jpg\">"
   ]
  },
  {
   "cell_type": "markdown",
   "metadata": {
    "slideshow": {
     "slide_type": "slide"
    }
   },
   "source": [
    "## So, let's see how we construct it\n",
    "\n",
    "We begin with what's called a utility matrix. This is a user by product matrix.\n",
    "<img src=\"http://i.imgur.com/Ce838dV.png\">"
   ]
  },
  {
   "cell_type": "markdown",
   "metadata": {
    "slideshow": {
     "slide_type": "slide"
    }
   },
   "source": [
    "## We'll use real data this time\n",
    "Using an excerpt from the [movie lens data](https://grouplens.org/datasets/movielens/), we have real user ratings for films.\n"
   ]
  },
  {
   "cell_type": "code",
   "execution_count": 44,
   "metadata": {
    "slideshow": {
     "slide_type": "-"
    }
   },
   "outputs": [
    {
     "data": {
      "text/html": [
       "<div>\n",
       "<style>\n",
       "    .dataframe thead tr:only-child th {\n",
       "        text-align: right;\n",
       "    }\n",
       "\n",
       "    .dataframe thead th {\n",
       "        text-align: left;\n",
       "    }\n",
       "\n",
       "    .dataframe tbody tr th {\n",
       "        vertical-align: top;\n",
       "    }\n",
       "</style>\n",
       "<table border=\"1\" class=\"dataframe\">\n",
       "  <thead>\n",
       "    <tr style=\"text-align: right;\">\n",
       "      <th></th>\n",
       "      <th>movie_id</th>\n",
       "      <th>title</th>\n",
       "      <th>release_date</th>\n",
       "      <th>video_release_date</th>\n",
       "      <th>imdb_url</th>\n",
       "      <th>user_id</th>\n",
       "      <th>rating</th>\n",
       "      <th>unix_timestamp</th>\n",
       "      <th>age</th>\n",
       "      <th>sex</th>\n",
       "      <th>occupation</th>\n",
       "      <th>zip_code</th>\n",
       "    </tr>\n",
       "  </thead>\n",
       "  <tbody>\n",
       "    <tr>\n",
       "      <th>0</th>\n",
       "      <td>1</td>\n",
       "      <td>Toy Story (1995)</td>\n",
       "      <td>01-Jan-1995</td>\n",
       "      <td>NaN</td>\n",
       "      <td>http://us.imdb.com/M/title-exact?Toy%20Story%2...</td>\n",
       "      <td>308</td>\n",
       "      <td>4</td>\n",
       "      <td>887736532</td>\n",
       "      <td>60</td>\n",
       "      <td>M</td>\n",
       "      <td>retired</td>\n",
       "      <td>95076</td>\n",
       "    </tr>\n",
       "    <tr>\n",
       "      <th>1</th>\n",
       "      <td>4</td>\n",
       "      <td>Get Shorty (1995)</td>\n",
       "      <td>01-Jan-1995</td>\n",
       "      <td>NaN</td>\n",
       "      <td>http://us.imdb.com/M/title-exact?Get%20Shorty%...</td>\n",
       "      <td>308</td>\n",
       "      <td>5</td>\n",
       "      <td>887737890</td>\n",
       "      <td>60</td>\n",
       "      <td>M</td>\n",
       "      <td>retired</td>\n",
       "      <td>95076</td>\n",
       "    </tr>\n",
       "    <tr>\n",
       "      <th>2</th>\n",
       "      <td>5</td>\n",
       "      <td>Copycat (1995)</td>\n",
       "      <td>01-Jan-1995</td>\n",
       "      <td>NaN</td>\n",
       "      <td>http://us.imdb.com/M/title-exact?Copycat%20(1995)</td>\n",
       "      <td>308</td>\n",
       "      <td>4</td>\n",
       "      <td>887739608</td>\n",
       "      <td>60</td>\n",
       "      <td>M</td>\n",
       "      <td>retired</td>\n",
       "      <td>95076</td>\n",
       "    </tr>\n",
       "    <tr>\n",
       "      <th>3</th>\n",
       "      <td>7</td>\n",
       "      <td>Twelve Monkeys (1995)</td>\n",
       "      <td>01-Jan-1995</td>\n",
       "      <td>NaN</td>\n",
       "      <td>http://us.imdb.com/M/title-exact?Twelve%20Monk...</td>\n",
       "      <td>308</td>\n",
       "      <td>4</td>\n",
       "      <td>887738847</td>\n",
       "      <td>60</td>\n",
       "      <td>M</td>\n",
       "      <td>retired</td>\n",
       "      <td>95076</td>\n",
       "    </tr>\n",
       "    <tr>\n",
       "      <th>4</th>\n",
       "      <td>8</td>\n",
       "      <td>Babe (1995)</td>\n",
       "      <td>01-Jan-1995</td>\n",
       "      <td>NaN</td>\n",
       "      <td>http://us.imdb.com/M/title-exact?Babe%20(1995)</td>\n",
       "      <td>308</td>\n",
       "      <td>5</td>\n",
       "      <td>887736696</td>\n",
       "      <td>60</td>\n",
       "      <td>M</td>\n",
       "      <td>retired</td>\n",
       "      <td>95076</td>\n",
       "    </tr>\n",
       "  </tbody>\n",
       "</table>\n",
       "</div>"
      ],
      "text/plain": [
       "   movie_id                  title release_date  video_release_date  \\\n",
       "0         1       Toy Story (1995)  01-Jan-1995                 NaN   \n",
       "1         4      Get Shorty (1995)  01-Jan-1995                 NaN   \n",
       "2         5         Copycat (1995)  01-Jan-1995                 NaN   \n",
       "3         7  Twelve Monkeys (1995)  01-Jan-1995                 NaN   \n",
       "4         8            Babe (1995)  01-Jan-1995                 NaN   \n",
       "\n",
       "                                            imdb_url  user_id  rating  \\\n",
       "0  http://us.imdb.com/M/title-exact?Toy%20Story%2...      308       4   \n",
       "1  http://us.imdb.com/M/title-exact?Get%20Shorty%...      308       5   \n",
       "2  http://us.imdb.com/M/title-exact?Copycat%20(1995)      308       4   \n",
       "3  http://us.imdb.com/M/title-exact?Twelve%20Monk...      308       4   \n",
       "4     http://us.imdb.com/M/title-exact?Babe%20(1995)      308       5   \n",
       "\n",
       "   unix_timestamp  age sex occupation zip_code  \n",
       "0       887736532   60   M    retired    95076  \n",
       "1       887737890   60   M    retired    95076  \n",
       "2       887739608   60   M    retired    95076  \n",
       "3       887738847   60   M    retired    95076  \n",
       "4       887736696   60   M    retired    95076  "
      ]
     },
     "execution_count": 44,
     "metadata": {},
     "output_type": "execute_result"
    }
   ],
   "source": [
    "movies = pd.read_csv('movies.csv')\n",
    "movies.head()"
   ]
  },
  {
   "cell_type": "markdown",
   "metadata": {
    "slideshow": {
     "slide_type": "slide"
    }
   },
   "source": [
    "This is a huge dataset, so just to make our calculations run, we'll subset it to users who have submitted more thatn 150 reviews, and films that have been reviewed more than 40 times.\n",
    "\n",
    "If you were really building a recommendation engine, you would use all the data you could get your hands on!"
   ]
  },
  {
   "cell_type": "code",
   "execution_count": 45,
   "metadata": {
    "collapsed": true,
    "slideshow": {
     "slide_type": "-"
    }
   },
   "outputs": [],
   "source": [
    "big_reviewers = list(movies['user_id'].value_counts()[movies['user_id'].value_counts()>150].index)\n",
    "movies = movies[movies['user_id'].isin(big_reviewers)]"
   ]
  },
  {
   "cell_type": "code",
   "execution_count": 46,
   "metadata": {
    "collapsed": true,
    "slideshow": {
     "slide_type": "-"
    }
   },
   "outputs": [],
   "source": [
    "big_movies = list(movies['title'].value_counts()[movies['title'].value_counts()>40].index)\n",
    "movies = movies[movies['title'].isin(big_movies)]"
   ]
  },
  {
   "cell_type": "code",
   "execution_count": 47,
   "metadata": {
    "slideshow": {
     "slide_type": "-"
    }
   },
   "outputs": [
    {
     "name": "stdout",
     "output_type": "stream",
     "text": [
      "(43915, 12)\n",
      "516\n"
     ]
    }
   ],
   "source": [
    "print movies.shape\n",
    "print len(set(movies['title']))"
   ]
  },
  {
   "cell_type": "markdown",
   "metadata": {
    "slideshow": {
     "slide_type": "slide"
    }
   },
   "source": [
    "For ease of reading, let's strip the year from the movie names."
   ]
  },
  {
   "cell_type": "code",
   "execution_count": 48,
   "metadata": {
    "collapsed": true,
    "slideshow": {
     "slide_type": "-"
    }
   },
   "outputs": [],
   "source": [
    "movies['title'] = movies['title'].map(lambda x: x.split(\"(\")[0].strip())"
   ]
  },
  {
   "cell_type": "code",
   "execution_count": 49,
   "metadata": {
    "slideshow": {
     "slide_type": "slide"
    }
   },
   "outputs": [
    {
     "data": {
      "text/plain": [
       "<matplotlib.axes._subplots.AxesSubplot at 0x114a47410>"
      ]
     },
     "execution_count": 49,
     "metadata": {},
     "output_type": "execute_result"
    },
    {
     "data": {
      "image/png": "[encoded data removed]",
      "text/plain": [
       "<matplotlib.figure.Figure at 0x114a65290>"
      ]
     },
     "metadata": {},
     "output_type": "display_data"
    }
   ],
   "source": [
    "# distribution of ratings\n",
    "movies['rating'].value_counts().sort_index().plot(kind='bar')"
   ]
  },
  {
   "cell_type": "markdown",
   "metadata": {
    "slideshow": {
     "slide_type": "slide"
    }
   },
   "source": [
    "We need to transform this to the utilty matrix form, with user ids in the index, and movie titles in the columns, and the ratings as the values."
   ]
  },
  {
   "cell_type": "code",
   "execution_count": 50,
   "metadata": {
    "slideshow": {
     "slide_type": "-"
    }
   },
   "outputs": [
    {
     "data": {
      "text/html": [
       "<div>\n",
       "<style>\n",
       "    .dataframe thead tr:only-child th {\n",
       "        text-align: right;\n",
       "    }\n",
       "\n",
       "    .dataframe thead th {\n",
       "        text-align: left;\n",
       "    }\n",
       "\n",
       "    .dataframe tbody tr th {\n",
       "        vertical-align: top;\n",
       "    }\n",
       "</style>\n",
       "<table border=\"1\" class=\"dataframe\">\n",
       "  <thead>\n",
       "    <tr style=\"text-align: right;\">\n",
       "      <th>title</th>\n",
       "      <th>101 Dalmatians</th>\n",
       "      <th>12 Angry Men</th>\n",
       "      <th>2 Days in the Valley</th>\n",
       "      <th>20,000 Leagues Under the Sea</th>\n",
       "      <th>2001: A Space Odyssey</th>\n",
       "      <th>Absolute Power</th>\n",
       "      <th>Abyss, The</th>\n",
       "      <th>Ace Ventura: Pet Detective</th>\n",
       "      <th>Addams Family Values</th>\n",
       "      <th>Adventures of Priscilla, Queen of the Desert, The</th>\n",
       "      <th>...</th>\n",
       "      <th>White Squall</th>\n",
       "      <th>William Shakespeare's Romeo and Juliet</th>\n",
       "      <th>Willy Wonka and the Chocolate Factory</th>\n",
       "      <th>Winnie the Pooh and the Blustery Day</th>\n",
       "      <th>Wizard of Oz, The</th>\n",
       "      <th>Wolf</th>\n",
       "      <th>Wrong Trousers, The</th>\n",
       "      <th>Wyatt Earp</th>\n",
       "      <th>Young Frankenstein</th>\n",
       "      <th>Young Guns</th>\n",
       "    </tr>\n",
       "    <tr>\n",
       "      <th>user_id</th>\n",
       "      <th></th>\n",
       "      <th></th>\n",
       "      <th></th>\n",
       "      <th></th>\n",
       "      <th></th>\n",
       "      <th></th>\n",
       "      <th></th>\n",
       "      <th></th>\n",
       "      <th></th>\n",
       "      <th></th>\n",
       "      <th></th>\n",
       "      <th></th>\n",
       "      <th></th>\n",
       "      <th></th>\n",
       "      <th></th>\n",
       "      <th></th>\n",
       "      <th></th>\n",
       "      <th></th>\n",
       "      <th></th>\n",
       "      <th></th>\n",
       "      <th></th>\n",
       "    </tr>\n",
       "  </thead>\n",
       "  <tbody>\n",
       "    <tr>\n",
       "      <th>1</th>\n",
       "      <td>2.0</td>\n",
       "      <td>5.0</td>\n",
       "      <td>NaN</td>\n",
       "      <td>3.0</td>\n",
       "      <td>4.0</td>\n",
       "      <td>NaN</td>\n",
       "      <td>3.0</td>\n",
       "      <td>3.0</td>\n",
       "      <td>NaN</td>\n",
       "      <td>NaN</td>\n",
       "      <td>...</td>\n",
       "      <td>NaN</td>\n",
       "      <td>NaN</td>\n",
       "      <td>4.0</td>\n",
       "      <td>NaN</td>\n",
       "      <td>4.0</td>\n",
       "      <td>NaN</td>\n",
       "      <td>5.0</td>\n",
       "      <td>NaN</td>\n",
       "      <td>5.0</td>\n",
       "      <td>3.0</td>\n",
       "    </tr>\n",
       "    <tr>\n",
       "      <th>5</th>\n",
       "      <td>2.0</td>\n",
       "      <td>NaN</td>\n",
       "      <td>NaN</td>\n",
       "      <td>NaN</td>\n",
       "      <td>4.0</td>\n",
       "      <td>NaN</td>\n",
       "      <td>NaN</td>\n",
       "      <td>NaN</td>\n",
       "      <td>2.0</td>\n",
       "      <td>5.0</td>\n",
       "      <td>...</td>\n",
       "      <td>NaN</td>\n",
       "      <td>1.0</td>\n",
       "      <td>3.0</td>\n",
       "      <td>NaN</td>\n",
       "      <td>NaN</td>\n",
       "      <td>NaN</td>\n",
       "      <td>5.0</td>\n",
       "      <td>NaN</td>\n",
       "      <td>4.0</td>\n",
       "      <td>NaN</td>\n",
       "    </tr>\n",
       "    <tr>\n",
       "      <th>6</th>\n",
       "      <td>NaN</td>\n",
       "      <td>4.0</td>\n",
       "      <td>NaN</td>\n",
       "      <td>NaN</td>\n",
       "      <td>5.0</td>\n",
       "      <td>NaN</td>\n",
       "      <td>NaN</td>\n",
       "      <td>NaN</td>\n",
       "      <td>NaN</td>\n",
       "      <td>NaN</td>\n",
       "      <td>...</td>\n",
       "      <td>NaN</td>\n",
       "      <td>NaN</td>\n",
       "      <td>3.0</td>\n",
       "      <td>NaN</td>\n",
       "      <td>5.0</td>\n",
       "      <td>NaN</td>\n",
       "      <td>4.0</td>\n",
       "      <td>NaN</td>\n",
       "      <td>4.0</td>\n",
       "      <td>NaN</td>\n",
       "    </tr>\n",
       "    <tr>\n",
       "      <th>7</th>\n",
       "      <td>NaN</td>\n",
       "      <td>4.0</td>\n",
       "      <td>NaN</td>\n",
       "      <td>5.0</td>\n",
       "      <td>5.0</td>\n",
       "      <td>NaN</td>\n",
       "      <td>5.0</td>\n",
       "      <td>NaN</td>\n",
       "      <td>4.0</td>\n",
       "      <td>4.0</td>\n",
       "      <td>...</td>\n",
       "      <td>NaN</td>\n",
       "      <td>3.0</td>\n",
       "      <td>4.0</td>\n",
       "      <td>NaN</td>\n",
       "      <td>5.0</td>\n",
       "      <td>4.0</td>\n",
       "      <td>NaN</td>\n",
       "      <td>3.0</td>\n",
       "      <td>5.0</td>\n",
       "      <td>3.0</td>\n",
       "    </tr>\n",
       "    <tr>\n",
       "      <th>10</th>\n",
       "      <td>NaN</td>\n",
       "      <td>5.0</td>\n",
       "      <td>NaN</td>\n",
       "      <td>NaN</td>\n",
       "      <td>5.0</td>\n",
       "      <td>NaN</td>\n",
       "      <td>4.0</td>\n",
       "      <td>NaN</td>\n",
       "      <td>NaN</td>\n",
       "      <td>NaN</td>\n",
       "      <td>...</td>\n",
       "      <td>NaN</td>\n",
       "      <td>NaN</td>\n",
       "      <td>NaN</td>\n",
       "      <td>NaN</td>\n",
       "      <td>5.0</td>\n",
       "      <td>NaN</td>\n",
       "      <td>NaN</td>\n",
       "      <td>NaN</td>\n",
       "      <td>NaN</td>\n",
       "      <td>NaN</td>\n",
       "    </tr>\n",
       "  </tbody>\n",
       "</table>\n",
       "<p>5 rows × 514 columns</p>\n",
       "</div>"
      ],
      "text/plain": [
       "title    101 Dalmatians  12 Angry Men  2 Days in the Valley  \\\n",
       "user_id                                                       \n",
       "1                   2.0           5.0                   NaN   \n",
       "5                   2.0           NaN                   NaN   \n",
       "6                   NaN           4.0                   NaN   \n",
       "7                   NaN           4.0                   NaN   \n",
       "10                  NaN           5.0                   NaN   \n",
       "\n",
       "title    20,000 Leagues Under the Sea  2001: A Space Odyssey  Absolute Power  \\\n",
       "user_id                                                                        \n",
       "1                                 3.0                    4.0             NaN   \n",
       "5                                 NaN                    4.0             NaN   \n",
       "6                                 NaN                    5.0             NaN   \n",
       "7                                 5.0                    5.0             NaN   \n",
       "10                                NaN                    5.0             NaN   \n",
       "\n",
       "title    Abyss, The  Ace Ventura: Pet Detective  Addams Family Values  \\\n",
       "user_id                                                                 \n",
       "1               3.0                         3.0                   NaN   \n",
       "5               NaN                         NaN                   2.0   \n",
       "6               NaN                         NaN                   NaN   \n",
       "7               5.0                         NaN                   4.0   \n",
       "10              4.0                         NaN                   NaN   \n",
       "\n",
       "title    Adventures of Priscilla, Queen of the Desert, The     ...      \\\n",
       "user_id                                                        ...       \n",
       "1                                                      NaN     ...       \n",
       "5                                                      5.0     ...       \n",
       "6                                                      NaN     ...       \n",
       "7                                                      4.0     ...       \n",
       "10                                                     NaN     ...       \n",
       "\n",
       "title    White Squall  William Shakespeare's Romeo and Juliet  \\\n",
       "user_id                                                         \n",
       "1                 NaN                                     NaN   \n",
       "5                 NaN                                     1.0   \n",
       "6                 NaN                                     NaN   \n",
       "7                 NaN                                     3.0   \n",
       "10                NaN                                     NaN   \n",
       "\n",
       "title    Willy Wonka and the Chocolate Factory  \\\n",
       "user_id                                          \n",
       "1                                          4.0   \n",
       "5                                          3.0   \n",
       "6                                          3.0   \n",
       "7                                          4.0   \n",
       "10                                         NaN   \n",
       "\n",
       "title    Winnie the Pooh and the Blustery Day  Wizard of Oz, The  Wolf  \\\n",
       "user_id                                                                  \n",
       "1                                         NaN                4.0   NaN   \n",
       "5                                         NaN                NaN   NaN   \n",
       "6                                         NaN                5.0   NaN   \n",
       "7                                         NaN                5.0   4.0   \n",
       "10                                        NaN                5.0   NaN   \n",
       "\n",
       "title    Wrong Trousers, The  Wyatt Earp  Young Frankenstein  Young Guns  \n",
       "user_id                                                                   \n",
       "1                        5.0         NaN                 5.0         3.0  \n",
       "5                        5.0         NaN                 4.0         NaN  \n",
       "6                        4.0         NaN                 4.0         NaN  \n",
       "7                        NaN         3.0                 5.0         3.0  \n",
       "10                       NaN         NaN                 NaN         NaN  \n",
       "\n",
       "[5 rows x 514 columns]"
      ]
     },
     "execution_count": 50,
     "metadata": {},
     "output_type": "execute_result"
    }
   ],
   "source": [
    "utility = pd.pivot_table(movies, index='user_id', columns = 'title', values = 'rating')\n",
    "utility.head()"
   ]
  },
  {
   "cell_type": "markdown",
   "metadata": {
    "slideshow": {
     "slide_type": "slide"
    }
   },
   "source": [
    "## Uh oh... \n",
    "What about all those NaNs??\n",
    "\n",
    "We have a problem with sparsity, which is a very typical.  What should we do with them?\n",
    "\n",
    "- Ignore them?\n",
    "- Fill in with zeroes?\n",
    "- Fill in with something else?"
   ]
  },
  {
   "cell_type": "markdown",
   "metadata": {
    "slideshow": {
     "slide_type": "slide"
    }
   },
   "source": [
    "We can't ignore them since we need values to calculate the similarity.\n",
    "\n",
    "If we fill them in with zeroes it assumes that they were lowly rated, rather just not rated.\n",
    "\n",
    "We could fill in with the user's mean rating (sort of signifying indifference)."
   ]
  },
  {
   "cell_type": "markdown",
   "metadata": {
    "slideshow": {
     "slide_type": "fragment"
    }
   },
   "source": [
    "There's no easy answer!  \n",
    "\n",
    "Since we have quite a lot of data here, we are only going to calculate similarity between users if they have 10 (arbitrary) reviews in common.\n",
    "\n",
    "You couldn't do this if you had a really sparse matrix!"
   ]
  },
  {
   "cell_type": "markdown",
   "metadata": {
    "slideshow": {
     "slide_type": "slide"
    }
   },
   "source": [
    "Before we do this, we're going to normalize each user's reviews.  This'll somewhat balance out the effect that some users are \"easy\" graders and some are \"hard\" graders.  Everyone's average will be the same (0).\n",
    "\n",
    "In order to avoid negative reviews (which may cause problems with similarity), we'll add 5 to center them at 5."
   ]
  },
  {
   "cell_type": "code",
   "execution_count": 86,
   "metadata": {
    "collapsed": true,
    "slideshow": {
     "slide_type": "slide"
    }
   },
   "outputs": [],
   "source": [
    "utility_std = pd.DataFrame(index=utility.index, columns = utility.columns )\n",
    "\n",
    "def stand(x, ave, std):\n",
    "    try:\n",
    "        return (x-ave) / std\n",
    "\n",
    "    except:\n",
    "        return x\n",
    "    \n",
    "for u in utility.index:\n",
    "    ave = np.mean(utility.loc[u,:])\n",
    "    std = np.std(utility.loc[u,:])\n",
    "    \n",
    "    utility_std.loc[u,:] = utility.loc[u,:].apply(lambda x: stand(x, ave, std))\n",
    "    \n",
    "utility_std = utility_std + 5"
   ]
  },
  {
   "cell_type": "markdown",
   "metadata": {
    "slideshow": {
     "slide_type": "slide"
    }
   },
   "source": [
    "## How do we use this to make recommendations?\n",
    "\n",
    "We can try to predict how a user will rate a film they've never seen by:\n",
    "- calculating similarity to users who have seen the film\n",
    "- see how those users rated the film\n",
    "- calculate a weighted (by similarity) average\n",
    "\n",
    "Then we just suggest the films that we predict they would rate highest!\n",
    "\n",
    "We're going to use cosine similarity for this going forward."
   ]
  },
  {
   "cell_type": "markdown",
   "metadata": {
    "slideshow": {
     "slide_type": "-"
    }
   },
   "source": [
    "If 2 users had seen the film:<br>\n",
    "** (1st closest cosine sim x their product rating + 2nd closest cosine sim x their product rating) / (sum of 1st and 2nd's cosine sims) **"
   ]
  },
  {
   "cell_type": "markdown",
   "metadata": {
    "slideshow": {
     "slide_type": "slide"
    }
   },
   "source": [
    "I want to predict how much user 5 will like 12 Angry Men."
   ]
  },
  {
   "cell_type": "code",
   "execution_count": 67,
   "metadata": {
    "collapsed": true,
    "slideshow": {
     "slide_type": "-"
    }
   },
   "outputs": [],
   "source": [
    "# function to calculate similarity between any two users\n",
    "# if they have fewer than n films in common, it'll return 0\n",
    "def sim(user1, user2, n):\n",
    "    commons = utility_std.loc[[user1,user2]].dropna(axis=1)\n",
    "    if len(commons.columns)<n:\n",
    "        return 0\n",
    "    else:\n",
    "        return cosine_similarity(commons.loc[user1,:].values.reshape(1,-1), \\\n",
    "                                 commons.loc[user2,:].values.reshape(1,-1))[0][0]"
   ]
  },
  {
   "cell_type": "code",
   "execution_count": 72,
   "metadata": {
    "collapsed": true,
    "slideshow": {
     "slide_type": "slide"
    }
   },
   "outputs": [],
   "source": [
    "# calcultes estimated rating for a user + new film\n",
    "def rating_estimator(user, title):\n",
    "    '''doesnt check if user has seen title.  assumes we are only asking about unseen titles'''\n",
    "    seers = list(utility_std[title].dropna().index)#find all people who have reviewed the title\n",
    "    ratings = list(utility_std[title].dropna().values)\n",
    "    sims = []\n",
    "    for s in seers:\n",
    "        sims.append(sim(user,s,10))\n",
    "    return np.sum([i*j for i, j in zip(ratings, sims)]) / np.sum(sims)"
   ]
  },
  {
   "cell_type": "code",
   "execution_count": 73,
   "metadata": {
    "slideshow": {
     "slide_type": "-"
    }
   },
   "outputs": [
    {
     "data": {
      "text/plain": [
       "5.6108176035043567"
      ]
     },
     "execution_count": 73,
     "metadata": {},
     "output_type": "execute_result"
    }
   ],
   "source": [
    "rating_estimator(5,'12 Angry Men')"
   ]
  },
  {
   "cell_type": "markdown",
   "metadata": {
    "slideshow": {
     "slide_type": "slide"
    }
   },
   "source": [
    "## How can we test how good this is?\n",
    "\n",
    "Well, we can't really. \n",
    "\n",
    "We could wait until user 5 sees and reviews it, and see how close we are.\n",
    "\n",
    "Just to get a rough sense of how good this is, let's pick a movie that user 1 has seen, remove the rating, and try to predict it."
   ]
  },
  {
   "cell_type": "code",
   "execution_count": 87,
   "metadata": {
    "slideshow": {
     "slide_type": "slide"
    }
   },
   "outputs": [
    {
     "name": "stdout",
     "output_type": "stream",
     "text": [
      "3.5169004755\n",
      "4.17035109796\n"
     ]
    }
   ],
   "source": [
    "print utility_std.loc[1,'101 Dalmatians']\n",
    "utility_std.loc[1,'101 Dalmatians'] = np.nan\n",
    "print rating_estimator(1,'101 Dalmatians')"
   ]
  },
  {
   "cell_type": "markdown",
   "metadata": {
    "slideshow": {
     "slide_type": "slide"
    }
   },
   "source": [
    "Now, to generate a list of recommendations, we'll cycle through all the films that the user hasn't seen, estimate how they would rate it, and show only the top 10."
   ]
  },
  {
   "cell_type": "code",
   "execution_count": 74,
   "metadata": {
    "collapsed": true,
    "slideshow": {
     "slide_type": "fragment"
    }
   },
   "outputs": [],
   "source": [
    "def recommend_films(user):\n",
    "    #find films i haven't seen\n",
    "    new_films =  utility_std.loc[user,:][utility_std.loc[user,:].isnull()].index\n",
    "    recs = []\n",
    "    for new in new_films:\n",
    "        recs.append((new, rating_estimator(user,new)))\n",
    "    recs.sort(key=lambda x: x[1], reverse=True)\n",
    "    return recs[:10]\n"
   ]
  },
  {
   "cell_type": "markdown",
   "metadata": {
    "slideshow": {
     "slide_type": "slide"
    }
   },
   "source": [
    "For user 5, these are the 10 recommended films."
   ]
  },
  {
   "cell_type": "code",
   "execution_count": 77,
   "metadata": {
    "slideshow": {
     "slide_type": "-"
    }
   },
   "outputs": [
    {
     "data": {
      "text/plain": [
       "[('Casablanca', 5.836572836861099),\n",
       " ('Godfather, The', 5.8197545129597188),\n",
       " (\"Schindler's List\", 5.801567752178336),\n",
       " ('Shawshank Redemption, The', 5.7806400261325388),\n",
       " ('Usual Suspects, The', 5.7662067736763358),\n",
       " ('Rear Window', 5.7424215305401347),\n",
       " ('Citizen Kane', 5.7308725726022782),\n",
       " ('Good Will Hunting', 5.6618194889368896),\n",
       " ('Lawrence of Arabia', 5.6553616047799018),\n",
       " ('Vertigo', 5.651159424256309)]"
      ]
     },
     "execution_count": 77,
     "metadata": {},
     "output_type": "execute_result"
    }
   ],
   "source": [
    "recommend_films(5)"
   ]
  },
  {
   "cell_type": "markdown",
   "metadata": {
    "slideshow": {
     "slide_type": "slide"
    }
   },
   "source": [
    "Here are user 1's top 10 films that they have seen."
   ]
  },
  {
   "cell_type": "code",
   "execution_count": 93,
   "metadata": {
    "slideshow": {
     "slide_type": "-"
    }
   },
   "outputs": [
    {
     "data": {
      "text/plain": [
       "title\n",
       "Clerks                                               6.41105\n",
       "Close Shave, A                                       6.41105\n",
       "Return of the Jedi                                   6.41105\n",
       "Return of the Pink Panther, The                      6.41105\n",
       "American Werewolf in London, An                      6.41105\n",
       "Serial Mom                                           6.41105\n",
       "Duck Soup                                            6.41105\n",
       "Mystery Science Theater 3000: The Movie              6.41105\n",
       "Blade Runner                                         6.41105\n",
       "Blues Brothers, The                                  6.41105\n",
       "Men in Black                                         6.41105\n",
       "Wrong Trousers, The                                  6.41105\n",
       "Brady Bunch Movie, The                               6.41105\n",
       "Star Trek: The Wrath of Khan                         6.41105\n",
       "Raiders of the Lost Ark                              6.41105\n",
       "Forbidden Planet                                     6.41105\n",
       "This Is Spinal Tap                                   6.41105\n",
       "Empire Strikes Back, The                             6.41105\n",
       "Fargo                                                6.41105\n",
       "Heathers                                             6.41105\n",
       "Harold and Maude                                     6.41105\n",
       "Adventures of Priscilla, Queen of the Desert, The    6.41105\n",
       "Grand Day Out, A                                     6.41105\n",
       "Heavy Metal                                          6.41105\n",
       "Fish Called Wanda, A                                 6.41105\n",
       "Independence Day                                     5.63819\n",
       "Fantasia                                             5.63819\n",
       "Back to the Future                                   5.63819\n",
       "Batman Forever                                       5.63819\n",
       "From Dusk Till Dawn                                  5.63819\n",
       "Name: 5, dtype: object"
      ]
     },
     "execution_count": 93,
     "metadata": {},
     "output_type": "execute_result"
    }
   ],
   "source": [
    "utility_std.loc[5,:].sort_values(ascending=False).head(30)"
   ]
  },
  {
   "cell_type": "markdown",
   "metadata": {
    "slideshow": {
     "slide_type": "slide"
    }
   },
   "source": [
    "## Item-to-item filtering\n",
    "\n",
    "Item-item similarity compares how similar items are by how they are rated.\n",
    "\n",
    "So, people who liked this thing, also liked this other thing.\n",
    "\n",
    "This can also we used with purchases (people who bought this, also bought that... Amazon is a classic example of this)."
   ]
  },
  {
   "cell_type": "markdown",
   "metadata": {
    "slideshow": {
     "slide_type": "slide"
    }
   },
   "source": [
    "We'll use the same dataframe, but transpose it to make it more intuitive:"
   ]
  },
  {
   "cell_type": "code",
   "execution_count": 58,
   "metadata": {
    "slideshow": {
     "slide_type": "-"
    }
   },
   "outputs": [
    {
     "data": {
      "text/html": [
       "<div>\n",
       "<style>\n",
       "    .dataframe thead tr:only-child th {\n",
       "        text-align: right;\n",
       "    }\n",
       "\n",
       "    .dataframe thead th {\n",
       "        text-align: left;\n",
       "    }\n",
       "\n",
       "    .dataframe tbody tr th {\n",
       "        vertical-align: top;\n",
       "    }\n",
       "</style>\n",
       "<table border=\"1\" class=\"dataframe\">\n",
       "  <thead>\n",
       "    <tr style=\"text-align: right;\">\n",
       "      <th>user_id</th>\n",
       "      <th>1</th>\n",
       "      <th>5</th>\n",
       "      <th>6</th>\n",
       "      <th>7</th>\n",
       "      <th>10</th>\n",
       "      <th>11</th>\n",
       "      <th>13</th>\n",
       "      <th>18</th>\n",
       "      <th>21</th>\n",
       "      <th>23</th>\n",
       "      <th>...</th>\n",
       "      <th>892</th>\n",
       "      <th>894</th>\n",
       "      <th>896</th>\n",
       "      <th>897</th>\n",
       "      <th>916</th>\n",
       "      <th>919</th>\n",
       "      <th>932</th>\n",
       "      <th>933</th>\n",
       "      <th>934</th>\n",
       "      <th>943</th>\n",
       "    </tr>\n",
       "    <tr>\n",
       "      <th>title</th>\n",
       "      <th></th>\n",
       "      <th></th>\n",
       "      <th></th>\n",
       "      <th></th>\n",
       "      <th></th>\n",
       "      <th></th>\n",
       "      <th></th>\n",
       "      <th></th>\n",
       "      <th></th>\n",
       "      <th></th>\n",
       "      <th></th>\n",
       "      <th></th>\n",
       "      <th></th>\n",
       "      <th></th>\n",
       "      <th></th>\n",
       "      <th></th>\n",
       "      <th></th>\n",
       "      <th></th>\n",
       "      <th></th>\n",
       "      <th></th>\n",
       "      <th></th>\n",
       "    </tr>\n",
       "  </thead>\n",
       "  <tbody>\n",
       "    <tr>\n",
       "      <th>101 Dalmatians</th>\n",
       "      <td>3.5169</td>\n",
       "      <td>4.09248</td>\n",
       "      <td>NaN</td>\n",
       "      <td>NaN</td>\n",
       "      <td>NaN</td>\n",
       "      <td>NaN</td>\n",
       "      <td>3.85135</td>\n",
       "      <td>NaN</td>\n",
       "      <td>NaN</td>\n",
       "      <td>NaN</td>\n",
       "      <td>...</td>\n",
       "      <td>NaN</td>\n",
       "      <td>NaN</td>\n",
       "      <td>3.13616</td>\n",
       "      <td>NaN</td>\n",
       "      <td>NaN</td>\n",
       "      <td>NaN</td>\n",
       "      <td>2.91161</td>\n",
       "      <td>NaN</td>\n",
       "      <td>3.01202</td>\n",
       "      <td>NaN</td>\n",
       "    </tr>\n",
       "    <tr>\n",
       "      <th>12 Angry Men</th>\n",
       "      <td>6.12845</td>\n",
       "      <td>NaN</td>\n",
       "      <td>5.30615</td>\n",
       "      <td>4.88838</td>\n",
       "      <td>6.37304</td>\n",
       "      <td>NaN</td>\n",
       "      <td>5.39271</td>\n",
       "      <td>3.93662</td>\n",
       "      <td>NaN</td>\n",
       "      <td>NaN</td>\n",
       "      <td>...</td>\n",
       "      <td>6.12786</td>\n",
       "      <td>NaN</td>\n",
       "      <td>NaN</td>\n",
       "      <td>NaN</td>\n",
       "      <td>NaN</td>\n",
       "      <td>NaN</td>\n",
       "      <td>6.10632</td>\n",
       "      <td>NaN</td>\n",
       "      <td>NaN</td>\n",
       "      <td>NaN</td>\n",
       "    </tr>\n",
       "    <tr>\n",
       "      <th>2 Days in the Valley</th>\n",
       "      <td>NaN</td>\n",
       "      <td>NaN</td>\n",
       "      <td>NaN</td>\n",
       "      <td>NaN</td>\n",
       "      <td>NaN</td>\n",
       "      <td>NaN</td>\n",
       "      <td>NaN</td>\n",
       "      <td>NaN</td>\n",
       "      <td>NaN</td>\n",
       "      <td>NaN</td>\n",
       "      <td>...</td>\n",
       "      <td>NaN</td>\n",
       "      <td>NaN</td>\n",
       "      <td>4.00328</td>\n",
       "      <td>NaN</td>\n",
       "      <td>5.69488</td>\n",
       "      <td>NaN</td>\n",
       "      <td>NaN</td>\n",
       "      <td>NaN</td>\n",
       "      <td>NaN</td>\n",
       "      <td>3.83896</td>\n",
       "    </tr>\n",
       "    <tr>\n",
       "      <th>20,000 Leagues Under the Sea</th>\n",
       "      <td>4.38742</td>\n",
       "      <td>NaN</td>\n",
       "      <td>NaN</td>\n",
       "      <td>5.90308</td>\n",
       "      <td>NaN</td>\n",
       "      <td>NaN</td>\n",
       "      <td>3.85135</td>\n",
       "      <td>NaN</td>\n",
       "      <td>NaN</td>\n",
       "      <td>NaN</td>\n",
       "      <td>...</td>\n",
       "      <td>NaN</td>\n",
       "      <td>NaN</td>\n",
       "      <td>4.8704</td>\n",
       "      <td>4.98769</td>\n",
       "      <td>NaN</td>\n",
       "      <td>NaN</td>\n",
       "      <td>5.04141</td>\n",
       "      <td>NaN</td>\n",
       "      <td>NaN</td>\n",
       "      <td>NaN</td>\n",
       "    </tr>\n",
       "    <tr>\n",
       "      <th>2001: A Space Odyssey</th>\n",
       "      <td>5.25793</td>\n",
       "      <td>5.63819</td>\n",
       "      <td>6.26218</td>\n",
       "      <td>5.90308</td>\n",
       "      <td>6.37304</td>\n",
       "      <td>5.65862</td>\n",
       "      <td>6.16339</td>\n",
       "      <td>3.93662</td>\n",
       "      <td>NaN</td>\n",
       "      <td>NaN</td>\n",
       "      <td>...</td>\n",
       "      <td>6.12786</td>\n",
       "      <td>NaN</td>\n",
       "      <td>4.8704</td>\n",
       "      <td>3.95952</td>\n",
       "      <td>5.69488</td>\n",
       "      <td>NaN</td>\n",
       "      <td>6.10632</td>\n",
       "      <td>6.03846</td>\n",
       "      <td>5.24698</td>\n",
       "      <td>NaN</td>\n",
       "    </tr>\n",
       "    <tr>\n",
       "      <th>Absolute Power</th>\n",
       "      <td>NaN</td>\n",
       "      <td>NaN</td>\n",
       "      <td>NaN</td>\n",
       "      <td>NaN</td>\n",
       "      <td>NaN</td>\n",
       "      <td>5.65862</td>\n",
       "      <td>NaN</td>\n",
       "      <td>NaN</td>\n",
       "      <td>4.7915</td>\n",
       "      <td>NaN</td>\n",
       "      <td>...</td>\n",
       "      <td>4.95325</td>\n",
       "      <td>NaN</td>\n",
       "      <td>4.8704</td>\n",
       "      <td>NaN</td>\n",
       "      <td>NaN</td>\n",
       "      <td>NaN</td>\n",
       "      <td>NaN</td>\n",
       "      <td>NaN</td>\n",
       "      <td>NaN</td>\n",
       "      <td>NaN</td>\n",
       "    </tr>\n",
       "    <tr>\n",
       "      <th>Abyss, The</th>\n",
       "      <td>4.38742</td>\n",
       "      <td>NaN</td>\n",
       "      <td>NaN</td>\n",
       "      <td>5.90308</td>\n",
       "      <td>4.61245</td>\n",
       "      <td>NaN</td>\n",
       "      <td>4.62203</td>\n",
       "      <td>NaN</td>\n",
       "      <td>6.30434</td>\n",
       "      <td>NaN</td>\n",
       "      <td>...</td>\n",
       "      <td>NaN</td>\n",
       "      <td>NaN</td>\n",
       "      <td>5.73751</td>\n",
       "      <td>NaN</td>\n",
       "      <td>5.69488</td>\n",
       "      <td>NaN</td>\n",
       "      <td>NaN</td>\n",
       "      <td>4.32038</td>\n",
       "      <td>NaN</td>\n",
       "      <td>NaN</td>\n",
       "    </tr>\n",
       "    <tr>\n",
       "      <th>Ace Ventura: Pet Detective</th>\n",
       "      <td>4.38742</td>\n",
       "      <td>NaN</td>\n",
       "      <td>NaN</td>\n",
       "      <td>NaN</td>\n",
       "      <td>NaN</td>\n",
       "      <td>NaN</td>\n",
       "      <td>3.08067</td>\n",
       "      <td>NaN</td>\n",
       "      <td>NaN</td>\n",
       "      <td>NaN</td>\n",
       "      <td>...</td>\n",
       "      <td>4.95325</td>\n",
       "      <td>NaN</td>\n",
       "      <td>4.00328</td>\n",
       "      <td>NaN</td>\n",
       "      <td>NaN</td>\n",
       "      <td>NaN</td>\n",
       "      <td>2.91161</td>\n",
       "      <td>3.46134</td>\n",
       "      <td>5.24698</td>\n",
       "      <td>5.41972</td>\n",
       "    </tr>\n",
       "    <tr>\n",
       "      <th>Addams Family Values</th>\n",
       "      <td>NaN</td>\n",
       "      <td>4.09248</td>\n",
       "      <td>NaN</td>\n",
       "      <td>4.88838</td>\n",
       "      <td>NaN</td>\n",
       "      <td>4.55059</td>\n",
       "      <td>NaN</td>\n",
       "      <td>2.75095</td>\n",
       "      <td>NaN</td>\n",
       "      <td>5.40695</td>\n",
       "      <td>...</td>\n",
       "      <td>NaN</td>\n",
       "      <td>NaN</td>\n",
       "      <td>4.8704</td>\n",
       "      <td>NaN</td>\n",
       "      <td>NaN</td>\n",
       "      <td>NaN</td>\n",
       "      <td>NaN</td>\n",
       "      <td>NaN</td>\n",
       "      <td>NaN</td>\n",
       "      <td>3.04858</td>\n",
       "    </tr>\n",
       "    <tr>\n",
       "      <th>Adventures of Priscilla, Queen of the Desert, The</th>\n",
       "      <td>NaN</td>\n",
       "      <td>6.41105</td>\n",
       "      <td>NaN</td>\n",
       "      <td>4.88838</td>\n",
       "      <td>NaN</td>\n",
       "      <td>4.55059</td>\n",
       "      <td>3.08067</td>\n",
       "      <td>3.93662</td>\n",
       "      <td>NaN</td>\n",
       "      <td>NaN</td>\n",
       "      <td>...</td>\n",
       "      <td>NaN</td>\n",
       "      <td>NaN</td>\n",
       "      <td>NaN</td>\n",
       "      <td>NaN</td>\n",
       "      <td>5.69488</td>\n",
       "      <td>6.41844</td>\n",
       "      <td>NaN</td>\n",
       "      <td>NaN</td>\n",
       "      <td>NaN</td>\n",
       "      <td>NaN</td>\n",
       "    </tr>\n",
       "    <tr>\n",
       "      <th>Adventures of Robin Hood, The</th>\n",
       "      <td>NaN</td>\n",
       "      <td>NaN</td>\n",
       "      <td>5.30615</td>\n",
       "      <td>5.90308</td>\n",
       "      <td>NaN</td>\n",
       "      <td>NaN</td>\n",
       "      <td>5.39271</td>\n",
       "      <td>NaN</td>\n",
       "      <td>NaN</td>\n",
       "      <td>NaN</td>\n",
       "      <td>...</td>\n",
       "      <td>NaN</td>\n",
       "      <td>NaN</td>\n",
       "      <td>NaN</td>\n",
       "      <td>NaN</td>\n",
       "      <td>NaN</td>\n",
       "      <td>NaN</td>\n",
       "      <td>6.10632</td>\n",
       "      <td>NaN</td>\n",
       "      <td>NaN</td>\n",
       "      <td>NaN</td>\n",
       "    </tr>\n",
       "    <tr>\n",
       "      <th>African Queen, The</th>\n",
       "      <td>NaN</td>\n",
       "      <td>NaN</td>\n",
       "      <td>5.30615</td>\n",
       "      <td>5.90308</td>\n",
       "      <td>6.37304</td>\n",
       "      <td>NaN</td>\n",
       "      <td>5.39271</td>\n",
       "      <td>5.12229</td>\n",
       "      <td>NaN</td>\n",
       "      <td>NaN</td>\n",
       "      <td>...</td>\n",
       "      <td>NaN</td>\n",
       "      <td>NaN</td>\n",
       "      <td>NaN</td>\n",
       "      <td>6.01585</td>\n",
       "      <td>4.5558</td>\n",
       "      <td>NaN</td>\n",
       "      <td>6.10632</td>\n",
       "      <td>NaN</td>\n",
       "      <td>4.1295</td>\n",
       "      <td>NaN</td>\n",
       "    </tr>\n",
       "    <tr>\n",
       "      <th>Age of Innocence, The</th>\n",
       "      <td>NaN</td>\n",
       "      <td>4.86534</td>\n",
       "      <td>NaN</td>\n",
       "      <td>3.87368</td>\n",
       "      <td>NaN</td>\n",
       "      <td>NaN</td>\n",
       "      <td>4.62203</td>\n",
       "      <td>5.12229</td>\n",
       "      <td>NaN</td>\n",
       "      <td>4.36368</td>\n",
       "      <td>...</td>\n",
       "      <td>NaN</td>\n",
       "      <td>NaN</td>\n",
       "      <td>4.00328</td>\n",
       "      <td>NaN</td>\n",
       "      <td>5.69488</td>\n",
       "      <td>NaN</td>\n",
       "      <td>NaN</td>\n",
       "      <td>NaN</td>\n",
       "      <td>NaN</td>\n",
       "      <td>NaN</td>\n",
       "    </tr>\n",
       "    <tr>\n",
       "      <th>Air Force One</th>\n",
       "      <td>NaN</td>\n",
       "      <td>NaN</td>\n",
       "      <td>NaN</td>\n",
       "      <td>4.88838</td>\n",
       "      <td>NaN</td>\n",
       "      <td>4.55059</td>\n",
       "      <td>3.08067</td>\n",
       "      <td>NaN</td>\n",
       "      <td>4.7915</td>\n",
       "      <td>NaN</td>\n",
       "      <td>...</td>\n",
       "      <td>4.95325</td>\n",
       "      <td>5.45329</td>\n",
       "      <td>4.00328</td>\n",
       "      <td>NaN</td>\n",
       "      <td>NaN</td>\n",
       "      <td>5.37289</td>\n",
       "      <td>NaN</td>\n",
       "      <td>NaN</td>\n",
       "      <td>NaN</td>\n",
       "      <td>NaN</td>\n",
       "    </tr>\n",
       "    <tr>\n",
       "      <th>Aladdin</th>\n",
       "      <td>5.25793</td>\n",
       "      <td>5.63819</td>\n",
       "      <td>3.39407</td>\n",
       "      <td>NaN</td>\n",
       "      <td>NaN</td>\n",
       "      <td>NaN</td>\n",
       "      <td>6.16339</td>\n",
       "      <td>5.12229</td>\n",
       "      <td>NaN</td>\n",
       "      <td>5.40695</td>\n",
       "      <td>...</td>\n",
       "      <td>4.95325</td>\n",
       "      <td>NaN</td>\n",
       "      <td>5.73751</td>\n",
       "      <td>3.95952</td>\n",
       "      <td>NaN</td>\n",
       "      <td>5.37289</td>\n",
       "      <td>NaN</td>\n",
       "      <td>5.17942</td>\n",
       "      <td>NaN</td>\n",
       "      <td>NaN</td>\n",
       "    </tr>\n",
       "    <tr>\n",
       "      <th>Alice in Wonderland</th>\n",
       "      <td>NaN</td>\n",
       "      <td>4.86534</td>\n",
       "      <td>NaN</td>\n",
       "      <td>5.90308</td>\n",
       "      <td>4.61245</td>\n",
       "      <td>NaN</td>\n",
       "      <td>5.39271</td>\n",
       "      <td>NaN</td>\n",
       "      <td>NaN</td>\n",
       "      <td>NaN</td>\n",
       "      <td>...</td>\n",
       "      <td>2.60402</td>\n",
       "      <td>NaN</td>\n",
       "      <td>5.73751</td>\n",
       "      <td>NaN</td>\n",
       "      <td>NaN</td>\n",
       "      <td>NaN</td>\n",
       "      <td>NaN</td>\n",
       "      <td>NaN</td>\n",
       "      <td>5.24698</td>\n",
       "      <td>NaN</td>\n",
       "    </tr>\n",
       "    <tr>\n",
       "      <th>Alien</th>\n",
       "      <td>6.12845</td>\n",
       "      <td>5.63819</td>\n",
       "      <td>5.30615</td>\n",
       "      <td>4.88838</td>\n",
       "      <td>6.37304</td>\n",
       "      <td>NaN</td>\n",
       "      <td>5.39271</td>\n",
       "      <td>NaN</td>\n",
       "      <td>NaN</td>\n",
       "      <td>4.36368</td>\n",
       "      <td>...</td>\n",
       "      <td>6.12786</td>\n",
       "      <td>NaN</td>\n",
       "      <td>5.73751</td>\n",
       "      <td>6.01585</td>\n",
       "      <td>5.69488</td>\n",
       "      <td>4.32734</td>\n",
       "      <td>5.04141</td>\n",
       "      <td>6.03846</td>\n",
       "      <td>3.01202</td>\n",
       "      <td>NaN</td>\n",
       "    </tr>\n",
       "    <tr>\n",
       "      <th>Alien 3</th>\n",
       "      <td>NaN</td>\n",
       "      <td>NaN</td>\n",
       "      <td>NaN</td>\n",
       "      <td>4.88838</td>\n",
       "      <td>NaN</td>\n",
       "      <td>NaN</td>\n",
       "      <td>3.85135</td>\n",
       "      <td>NaN</td>\n",
       "      <td>4.7915</td>\n",
       "      <td>NaN</td>\n",
       "      <td>...</td>\n",
       "      <td>NaN</td>\n",
       "      <td>NaN</td>\n",
       "      <td>3.13616</td>\n",
       "      <td>NaN</td>\n",
       "      <td>NaN</td>\n",
       "      <td>NaN</td>\n",
       "      <td>2.91161</td>\n",
       "      <td>3.46134</td>\n",
       "      <td>NaN</td>\n",
       "      <td>NaN</td>\n",
       "    </tr>\n",
       "    <tr>\n",
       "      <th>Aliens</th>\n",
       "      <td>6.12845</td>\n",
       "      <td>4.86534</td>\n",
       "      <td>NaN</td>\n",
       "      <td>3.87368</td>\n",
       "      <td>4.61245</td>\n",
       "      <td>4.55059</td>\n",
       "      <td>4.62203</td>\n",
       "      <td>NaN</td>\n",
       "      <td>NaN</td>\n",
       "      <td>4.36368</td>\n",
       "      <td>...</td>\n",
       "      <td>6.12786</td>\n",
       "      <td>NaN</td>\n",
       "      <td>6.60463</td>\n",
       "      <td>6.01585</td>\n",
       "      <td>5.69488</td>\n",
       "      <td>NaN</td>\n",
       "      <td>6.10632</td>\n",
       "      <td>5.17942</td>\n",
       "      <td>NaN</td>\n",
       "      <td>NaN</td>\n",
       "    </tr>\n",
       "    <tr>\n",
       "      <th>All About Eve</th>\n",
       "      <td>NaN</td>\n",
       "      <td>NaN</td>\n",
       "      <td>NaN</td>\n",
       "      <td>3.87368</td>\n",
       "      <td>6.37304</td>\n",
       "      <td>NaN</td>\n",
       "      <td>5.39271</td>\n",
       "      <td>NaN</td>\n",
       "      <td>NaN</td>\n",
       "      <td>NaN</td>\n",
       "      <td>...</td>\n",
       "      <td>NaN</td>\n",
       "      <td>NaN</td>\n",
       "      <td>NaN</td>\n",
       "      <td>NaN</td>\n",
       "      <td>NaN</td>\n",
       "      <td>NaN</td>\n",
       "      <td>5.04141</td>\n",
       "      <td>NaN</td>\n",
       "      <td>NaN</td>\n",
       "      <td>NaN</td>\n",
       "    </tr>\n",
       "    <tr>\n",
       "      <th>Amadeus</th>\n",
       "      <td>6.12845</td>\n",
       "      <td>NaN</td>\n",
       "      <td>5.30615</td>\n",
       "      <td>5.90308</td>\n",
       "      <td>6.37304</td>\n",
       "      <td>5.65862</td>\n",
       "      <td>4.62203</td>\n",
       "      <td>5.12229</td>\n",
       "      <td>NaN</td>\n",
       "      <td>4.36368</td>\n",
       "      <td>...</td>\n",
       "      <td>6.12786</td>\n",
       "      <td>NaN</td>\n",
       "      <td>5.73751</td>\n",
       "      <td>NaN</td>\n",
       "      <td>NaN</td>\n",
       "      <td>6.41844</td>\n",
       "      <td>5.04141</td>\n",
       "      <td>NaN</td>\n",
       "      <td>6.36446</td>\n",
       "      <td>NaN</td>\n",
       "    </tr>\n",
       "    <tr>\n",
       "      <th>American President, The</th>\n",
       "      <td>NaN</td>\n",
       "      <td>NaN</td>\n",
       "      <td>NaN</td>\n",
       "      <td>NaN</td>\n",
       "      <td>4.61245</td>\n",
       "      <td>5.65862</td>\n",
       "      <td>5.39271</td>\n",
       "      <td>3.93662</td>\n",
       "      <td>NaN</td>\n",
       "      <td>NaN</td>\n",
       "      <td>...</td>\n",
       "      <td>4.95325</td>\n",
       "      <td>NaN</td>\n",
       "      <td>5.73751</td>\n",
       "      <td>NaN</td>\n",
       "      <td>NaN</td>\n",
       "      <td>NaN</td>\n",
       "      <td>NaN</td>\n",
       "      <td>NaN</td>\n",
       "      <td>NaN</td>\n",
       "      <td>NaN</td>\n",
       "    </tr>\n",
       "    <tr>\n",
       "      <th>American Werewolf in London, An</th>\n",
       "      <td>NaN</td>\n",
       "      <td>6.41105</td>\n",
       "      <td>NaN</td>\n",
       "      <td>5.90308</td>\n",
       "      <td>NaN</td>\n",
       "      <td>NaN</td>\n",
       "      <td>3.85135</td>\n",
       "      <td>NaN</td>\n",
       "      <td>5.54792</td>\n",
       "      <td>NaN</td>\n",
       "      <td>...</td>\n",
       "      <td>3.77863</td>\n",
       "      <td>NaN</td>\n",
       "      <td>4.8704</td>\n",
       "      <td>4.98769</td>\n",
       "      <td>NaN</td>\n",
       "      <td>NaN</td>\n",
       "      <td>3.97651</td>\n",
       "      <td>NaN</td>\n",
       "      <td>4.1295</td>\n",
       "      <td>NaN</td>\n",
       "    </tr>\n",
       "    <tr>\n",
       "      <th>Annie Hall</th>\n",
       "      <td>NaN</td>\n",
       "      <td>NaN</td>\n",
       "      <td>6.26218</td>\n",
       "      <td>2.85898</td>\n",
       "      <td>NaN</td>\n",
       "      <td>NaN</td>\n",
       "      <td>6.16339</td>\n",
       "      <td>6.30796</td>\n",
       "      <td>NaN</td>\n",
       "      <td>NaN</td>\n",
       "      <td>...</td>\n",
       "      <td>NaN</td>\n",
       "      <td>NaN</td>\n",
       "      <td>NaN</td>\n",
       "      <td>NaN</td>\n",
       "      <td>NaN</td>\n",
       "      <td>NaN</td>\n",
       "      <td>6.10632</td>\n",
       "      <td>NaN</td>\n",
       "      <td>6.36446</td>\n",
       "      <td>NaN</td>\n",
       "    </tr>\n",
       "    <tr>\n",
       "      <th>Apartment, The</th>\n",
       "      <td>NaN</td>\n",
       "      <td>NaN</td>\n",
       "      <td>6.26218</td>\n",
       "      <td>5.90308</td>\n",
       "      <td>NaN</td>\n",
       "      <td>NaN</td>\n",
       "      <td>4.62203</td>\n",
       "      <td>NaN</td>\n",
       "      <td>NaN</td>\n",
       "      <td>NaN</td>\n",
       "      <td>...</td>\n",
       "      <td>6.12786</td>\n",
       "      <td>NaN</td>\n",
       "      <td>5.73751</td>\n",
       "      <td>NaN</td>\n",
       "      <td>NaN</td>\n",
       "      <td>NaN</td>\n",
       "      <td>5.04141</td>\n",
       "      <td>NaN</td>\n",
       "      <td>5.24698</td>\n",
       "      <td>NaN</td>\n",
       "    </tr>\n",
       "    <tr>\n",
       "      <th>Apocalypse Now</th>\n",
       "      <td>4.38742</td>\n",
       "      <td>NaN</td>\n",
       "      <td>5.30615</td>\n",
       "      <td>5.90308</td>\n",
       "      <td>6.37304</td>\n",
       "      <td>3.44256</td>\n",
       "      <td>6.16339</td>\n",
       "      <td>5.12229</td>\n",
       "      <td>NaN</td>\n",
       "      <td>NaN</td>\n",
       "      <td>...</td>\n",
       "      <td>6.12786</td>\n",
       "      <td>NaN</td>\n",
       "      <td>6.60463</td>\n",
       "      <td>6.01585</td>\n",
       "      <td>6.83396</td>\n",
       "      <td>NaN</td>\n",
       "      <td>5.04141</td>\n",
       "      <td>6.8975</td>\n",
       "      <td>NaN</td>\n",
       "      <td>NaN</td>\n",
       "    </tr>\n",
       "    <tr>\n",
       "      <th>Apollo 13</th>\n",
       "      <td>5.25793</td>\n",
       "      <td>NaN</td>\n",
       "      <td>3.39407</td>\n",
       "      <td>5.90308</td>\n",
       "      <td>NaN</td>\n",
       "      <td>6.76665</td>\n",
       "      <td>6.16339</td>\n",
       "      <td>3.93662</td>\n",
       "      <td>NaN</td>\n",
       "      <td>4.36368</td>\n",
       "      <td>...</td>\n",
       "      <td>4.95325</td>\n",
       "      <td>NaN</td>\n",
       "      <td>4.00328</td>\n",
       "      <td>4.98769</td>\n",
       "      <td>5.69488</td>\n",
       "      <td>5.37289</td>\n",
       "      <td>NaN</td>\n",
       "      <td>6.03846</td>\n",
       "      <td>NaN</td>\n",
       "      <td>5.41972</td>\n",
       "    </tr>\n",
       "    <tr>\n",
       "      <th>Apt Pupil</th>\n",
       "      <td>NaN</td>\n",
       "      <td>NaN</td>\n",
       "      <td>NaN</td>\n",
       "      <td>NaN</td>\n",
       "      <td>NaN</td>\n",
       "      <td>NaN</td>\n",
       "      <td>6.16339</td>\n",
       "      <td>NaN</td>\n",
       "      <td>NaN</td>\n",
       "      <td>4.36368</td>\n",
       "      <td>...</td>\n",
       "      <td>NaN</td>\n",
       "      <td>5.45329</td>\n",
       "      <td>NaN</td>\n",
       "      <td>NaN</td>\n",
       "      <td>NaN</td>\n",
       "      <td>4.32734</td>\n",
       "      <td>NaN</td>\n",
       "      <td>NaN</td>\n",
       "      <td>5.24698</td>\n",
       "      <td>NaN</td>\n",
       "    </tr>\n",
       "    <tr>\n",
       "      <th>Aristocats, The</th>\n",
       "      <td>3.5169</td>\n",
       "      <td>4.86534</td>\n",
       "      <td>NaN</td>\n",
       "      <td>NaN</td>\n",
       "      <td>NaN</td>\n",
       "      <td>NaN</td>\n",
       "      <td>NaN</td>\n",
       "      <td>NaN</td>\n",
       "      <td>NaN</td>\n",
       "      <td>4.36368</td>\n",
       "      <td>...</td>\n",
       "      <td>3.77863</td>\n",
       "      <td>NaN</td>\n",
       "      <td>NaN</td>\n",
       "      <td>NaN</td>\n",
       "      <td>NaN</td>\n",
       "      <td>NaN</td>\n",
       "      <td>NaN</td>\n",
       "      <td>NaN</td>\n",
       "      <td>NaN</td>\n",
       "      <td>NaN</td>\n",
       "    </tr>\n",
       "    <tr>\n",
       "      <th>Army of Darkness</th>\n",
       "      <td>5.25793</td>\n",
       "      <td>NaN</td>\n",
       "      <td>NaN</td>\n",
       "      <td>NaN</td>\n",
       "      <td>NaN</td>\n",
       "      <td>NaN</td>\n",
       "      <td>3.08067</td>\n",
       "      <td>NaN</td>\n",
       "      <td>5.54792</td>\n",
       "      <td>NaN</td>\n",
       "      <td>...</td>\n",
       "      <td>4.95325</td>\n",
       "      <td>NaN</td>\n",
       "      <td>4.8704</td>\n",
       "      <td>4.98769</td>\n",
       "      <td>NaN</td>\n",
       "      <td>NaN</td>\n",
       "      <td>NaN</td>\n",
       "      <td>3.46134</td>\n",
       "      <td>NaN</td>\n",
       "      <td>6.2101</td>\n",
       "    </tr>\n",
       "    <tr>\n",
       "      <th>...</th>\n",
       "      <td>...</td>\n",
       "      <td>...</td>\n",
       "      <td>...</td>\n",
       "      <td>...</td>\n",
       "      <td>...</td>\n",
       "      <td>...</td>\n",
       "      <td>...</td>\n",
       "      <td>...</td>\n",
       "      <td>...</td>\n",
       "      <td>...</td>\n",
       "      <td>...</td>\n",
       "      <td>...</td>\n",
       "      <td>...</td>\n",
       "      <td>...</td>\n",
       "      <td>...</td>\n",
       "      <td>...</td>\n",
       "      <td>...</td>\n",
       "      <td>...</td>\n",
       "      <td>...</td>\n",
       "      <td>...</td>\n",
       "      <td>...</td>\n",
       "    </tr>\n",
       "    <tr>\n",
       "      <th>Twister</th>\n",
       "      <td>4.38742</td>\n",
       "      <td>NaN</td>\n",
       "      <td>NaN</td>\n",
       "      <td>2.85898</td>\n",
       "      <td>NaN</td>\n",
       "      <td>NaN</td>\n",
       "      <td>5.39271</td>\n",
       "      <td>NaN</td>\n",
       "      <td>3.27867</td>\n",
       "      <td>NaN</td>\n",
       "      <td>...</td>\n",
       "      <td>4.95325</td>\n",
       "      <td>NaN</td>\n",
       "      <td>4.00328</td>\n",
       "      <td>6.01585</td>\n",
       "      <td>3.41672</td>\n",
       "      <td>5.37289</td>\n",
       "      <td>NaN</td>\n",
       "      <td>NaN</td>\n",
       "      <td>NaN</td>\n",
       "      <td>NaN</td>\n",
       "    </tr>\n",
       "    <tr>\n",
       "      <th>Ulee's Gold</th>\n",
       "      <td>NaN</td>\n",
       "      <td>NaN</td>\n",
       "      <td>4.35011</td>\n",
       "      <td>NaN</td>\n",
       "      <td>NaN</td>\n",
       "      <td>NaN</td>\n",
       "      <td>5.39271</td>\n",
       "      <td>NaN</td>\n",
       "      <td>NaN</td>\n",
       "      <td>NaN</td>\n",
       "      <td>...</td>\n",
       "      <td>NaN</td>\n",
       "      <td>5.45329</td>\n",
       "      <td>NaN</td>\n",
       "      <td>NaN</td>\n",
       "      <td>NaN</td>\n",
       "      <td>5.37289</td>\n",
       "      <td>NaN</td>\n",
       "      <td>NaN</td>\n",
       "      <td>5.80572</td>\n",
       "      <td>NaN</td>\n",
       "    </tr>\n",
       "    <tr>\n",
       "      <th>Unbearable Lightness of Being, The</th>\n",
       "      <td>5.25793</td>\n",
       "      <td>NaN</td>\n",
       "      <td>NaN</td>\n",
       "      <td>1.84428</td>\n",
       "      <td>NaN</td>\n",
       "      <td>NaN</td>\n",
       "      <td>6.16339</td>\n",
       "      <td>6.30796</td>\n",
       "      <td>NaN</td>\n",
       "      <td>NaN</td>\n",
       "      <td>...</td>\n",
       "      <td>NaN</td>\n",
       "      <td>6.76278</td>\n",
       "      <td>4.00328</td>\n",
       "      <td>NaN</td>\n",
       "      <td>6.83396</td>\n",
       "      <td>NaN</td>\n",
       "      <td>5.04141</td>\n",
       "      <td>NaN</td>\n",
       "      <td>5.24698</td>\n",
       "      <td>NaN</td>\n",
       "    </tr>\n",
       "    <tr>\n",
       "      <th>Under Siege</th>\n",
       "      <td>3.5169</td>\n",
       "      <td>5.63819</td>\n",
       "      <td>NaN</td>\n",
       "      <td>NaN</td>\n",
       "      <td>NaN</td>\n",
       "      <td>NaN</td>\n",
       "      <td>5.39271</td>\n",
       "      <td>NaN</td>\n",
       "      <td>NaN</td>\n",
       "      <td>NaN</td>\n",
       "      <td>...</td>\n",
       "      <td>6.12786</td>\n",
       "      <td>NaN</td>\n",
       "      <td>4.00328</td>\n",
       "      <td>NaN</td>\n",
       "      <td>4.5558</td>\n",
       "      <td>NaN</td>\n",
       "      <td>NaN</td>\n",
       "      <td>4.32038</td>\n",
       "      <td>NaN</td>\n",
       "      <td>6.2101</td>\n",
       "    </tr>\n",
       "    <tr>\n",
       "      <th>Unforgiven</th>\n",
       "      <td>5.25793</td>\n",
       "      <td>NaN</td>\n",
       "      <td>4.35011</td>\n",
       "      <td>5.90308</td>\n",
       "      <td>4.61245</td>\n",
       "      <td>5.65862</td>\n",
       "      <td>NaN</td>\n",
       "      <td>NaN</td>\n",
       "      <td>NaN</td>\n",
       "      <td>5.40695</td>\n",
       "      <td>...</td>\n",
       "      <td>6.12786</td>\n",
       "      <td>NaN</td>\n",
       "      <td>6.60463</td>\n",
       "      <td>4.98769</td>\n",
       "      <td>5.69488</td>\n",
       "      <td>NaN</td>\n",
       "      <td>5.04141</td>\n",
       "      <td>NaN</td>\n",
       "      <td>NaN</td>\n",
       "      <td>NaN</td>\n",
       "    </tr>\n",
       "    <tr>\n",
       "      <th>Up Close and Personal</th>\n",
       "      <td>NaN</td>\n",
       "      <td>NaN</td>\n",
       "      <td>NaN</td>\n",
       "      <td>NaN</td>\n",
       "      <td>NaN</td>\n",
       "      <td>NaN</td>\n",
       "      <td>5.39271</td>\n",
       "      <td>NaN</td>\n",
       "      <td>NaN</td>\n",
       "      <td>NaN</td>\n",
       "      <td>...</td>\n",
       "      <td>NaN</td>\n",
       "      <td>4.14379</td>\n",
       "      <td>NaN</td>\n",
       "      <td>NaN</td>\n",
       "      <td>3.41672</td>\n",
       "      <td>NaN</td>\n",
       "      <td>NaN</td>\n",
       "      <td>NaN</td>\n",
       "      <td>NaN</td>\n",
       "      <td>NaN</td>\n",
       "    </tr>\n",
       "    <tr>\n",
       "      <th>Usual Suspects, The</th>\n",
       "      <td>6.12845</td>\n",
       "      <td>NaN</td>\n",
       "      <td>5.30615</td>\n",
       "      <td>5.90308</td>\n",
       "      <td>6.37304</td>\n",
       "      <td>3.44256</td>\n",
       "      <td>6.16339</td>\n",
       "      <td>6.30796</td>\n",
       "      <td>NaN</td>\n",
       "      <td>NaN</td>\n",
       "      <td>...</td>\n",
       "      <td>6.12786</td>\n",
       "      <td>6.76278</td>\n",
       "      <td>4.8704</td>\n",
       "      <td>NaN</td>\n",
       "      <td>5.69488</td>\n",
       "      <td>4.32734</td>\n",
       "      <td>NaN</td>\n",
       "      <td>6.03846</td>\n",
       "      <td>NaN</td>\n",
       "      <td>6.2101</td>\n",
       "    </tr>\n",
       "    <tr>\n",
       "      <th>Vertigo</th>\n",
       "      <td>NaN</td>\n",
       "      <td>NaN</td>\n",
       "      <td>6.26218</td>\n",
       "      <td>4.88838</td>\n",
       "      <td>6.37304</td>\n",
       "      <td>NaN</td>\n",
       "      <td>NaN</td>\n",
       "      <td>5.12229</td>\n",
       "      <td>NaN</td>\n",
       "      <td>6.45022</td>\n",
       "      <td>...</td>\n",
       "      <td>6.12786</td>\n",
       "      <td>6.76278</td>\n",
       "      <td>4.8704</td>\n",
       "      <td>4.98769</td>\n",
       "      <td>NaN</td>\n",
       "      <td>NaN</td>\n",
       "      <td>6.10632</td>\n",
       "      <td>NaN</td>\n",
       "      <td>NaN</td>\n",
       "      <td>NaN</td>\n",
       "    </tr>\n",
       "    <tr>\n",
       "      <th>Very Brady Sequel, A</th>\n",
       "      <td>NaN</td>\n",
       "      <td>4.86534</td>\n",
       "      <td>NaN</td>\n",
       "      <td>NaN</td>\n",
       "      <td>NaN</td>\n",
       "      <td>NaN</td>\n",
       "      <td>NaN</td>\n",
       "      <td>NaN</td>\n",
       "      <td>NaN</td>\n",
       "      <td>NaN</td>\n",
       "      <td>...</td>\n",
       "      <td>NaN</td>\n",
       "      <td>NaN</td>\n",
       "      <td>NaN</td>\n",
       "      <td>NaN</td>\n",
       "      <td>NaN</td>\n",
       "      <td>3.28179</td>\n",
       "      <td>NaN</td>\n",
       "      <td>NaN</td>\n",
       "      <td>NaN</td>\n",
       "      <td>3.83896</td>\n",
       "    </tr>\n",
       "    <tr>\n",
       "      <th>Victor/Victoria</th>\n",
       "      <td>NaN</td>\n",
       "      <td>NaN</td>\n",
       "      <td>NaN</td>\n",
       "      <td>3.87368</td>\n",
       "      <td>4.61245</td>\n",
       "      <td>NaN</td>\n",
       "      <td>3.08067</td>\n",
       "      <td>3.93662</td>\n",
       "      <td>NaN</td>\n",
       "      <td>5.40695</td>\n",
       "      <td>...</td>\n",
       "      <td>NaN</td>\n",
       "      <td>NaN</td>\n",
       "      <td>NaN</td>\n",
       "      <td>NaN</td>\n",
       "      <td>NaN</td>\n",
       "      <td>NaN</td>\n",
       "      <td>NaN</td>\n",
       "      <td>NaN</td>\n",
       "      <td>5.24698</td>\n",
       "      <td>NaN</td>\n",
       "    </tr>\n",
       "    <tr>\n",
       "      <th>Volcano</th>\n",
       "      <td>NaN</td>\n",
       "      <td>NaN</td>\n",
       "      <td>NaN</td>\n",
       "      <td>3.87368</td>\n",
       "      <td>NaN</td>\n",
       "      <td>NaN</td>\n",
       "      <td>4.62203</td>\n",
       "      <td>NaN</td>\n",
       "      <td>4.03508</td>\n",
       "      <td>NaN</td>\n",
       "      <td>...</td>\n",
       "      <td>NaN</td>\n",
       "      <td>4.14379</td>\n",
       "      <td>NaN</td>\n",
       "      <td>NaN</td>\n",
       "      <td>3.41672</td>\n",
       "      <td>3.28179</td>\n",
       "      <td>NaN</td>\n",
       "      <td>NaN</td>\n",
       "      <td>NaN</td>\n",
       "      <td>NaN</td>\n",
       "    </tr>\n",
       "    <tr>\n",
       "      <th>Wag the Dog</th>\n",
       "      <td>NaN</td>\n",
       "      <td>NaN</td>\n",
       "      <td>NaN</td>\n",
       "      <td>NaN</td>\n",
       "      <td>NaN</td>\n",
       "      <td>NaN</td>\n",
       "      <td>6.16339</td>\n",
       "      <td>NaN</td>\n",
       "      <td>NaN</td>\n",
       "      <td>NaN</td>\n",
       "      <td>...</td>\n",
       "      <td>NaN</td>\n",
       "      <td>5.45329</td>\n",
       "      <td>NaN</td>\n",
       "      <td>NaN</td>\n",
       "      <td>NaN</td>\n",
       "      <td>4.32734</td>\n",
       "      <td>NaN</td>\n",
       "      <td>NaN</td>\n",
       "      <td>NaN</td>\n",
       "      <td>NaN</td>\n",
       "    </tr>\n",
       "    <tr>\n",
       "      <th>Walk in the Clouds, A</th>\n",
       "      <td>NaN</td>\n",
       "      <td>NaN</td>\n",
       "      <td>NaN</td>\n",
       "      <td>3.87368</td>\n",
       "      <td>NaN</td>\n",
       "      <td>NaN</td>\n",
       "      <td>3.85135</td>\n",
       "      <td>NaN</td>\n",
       "      <td>NaN</td>\n",
       "      <td>NaN</td>\n",
       "      <td>...</td>\n",
       "      <td>NaN</td>\n",
       "      <td>NaN</td>\n",
       "      <td>NaN</td>\n",
       "      <td>NaN</td>\n",
       "      <td>NaN</td>\n",
       "      <td>NaN</td>\n",
       "      <td>NaN</td>\n",
       "      <td>NaN</td>\n",
       "      <td>NaN</td>\n",
       "      <td>NaN</td>\n",
       "    </tr>\n",
       "    <tr>\n",
       "      <th>Waterworld</th>\n",
       "      <td>NaN</td>\n",
       "      <td>NaN</td>\n",
       "      <td>NaN</td>\n",
       "      <td>3.87368</td>\n",
       "      <td>NaN</td>\n",
       "      <td>NaN</td>\n",
       "      <td>3.85135</td>\n",
       "      <td>NaN</td>\n",
       "      <td>NaN</td>\n",
       "      <td>NaN</td>\n",
       "      <td>...</td>\n",
       "      <td>NaN</td>\n",
       "      <td>NaN</td>\n",
       "      <td>4.00328</td>\n",
       "      <td>NaN</td>\n",
       "      <td>NaN</td>\n",
       "      <td>NaN</td>\n",
       "      <td>NaN</td>\n",
       "      <td>NaN</td>\n",
       "      <td>5.24698</td>\n",
       "      <td>NaN</td>\n",
       "    </tr>\n",
       "    <tr>\n",
       "      <th>Weekend at Bernie's</th>\n",
       "      <td>4.38742</td>\n",
       "      <td>NaN</td>\n",
       "      <td>NaN</td>\n",
       "      <td>NaN</td>\n",
       "      <td>NaN</td>\n",
       "      <td>NaN</td>\n",
       "      <td>3.08067</td>\n",
       "      <td>NaN</td>\n",
       "      <td>NaN</td>\n",
       "      <td>NaN</td>\n",
       "      <td>...</td>\n",
       "      <td>NaN</td>\n",
       "      <td>NaN</td>\n",
       "      <td>NaN</td>\n",
       "      <td>NaN</td>\n",
       "      <td>3.41672</td>\n",
       "      <td>NaN</td>\n",
       "      <td>NaN</td>\n",
       "      <td>NaN</td>\n",
       "      <td>NaN</td>\n",
       "      <td>NaN</td>\n",
       "    </tr>\n",
       "    <tr>\n",
       "      <th>Welcome to the Dollhouse</th>\n",
       "      <td>6.12845</td>\n",
       "      <td>NaN</td>\n",
       "      <td>NaN</td>\n",
       "      <td>5.90308</td>\n",
       "      <td>4.61245</td>\n",
       "      <td>NaN</td>\n",
       "      <td>NaN</td>\n",
       "      <td>NaN</td>\n",
       "      <td>NaN</td>\n",
       "      <td>NaN</td>\n",
       "      <td>...</td>\n",
       "      <td>NaN</td>\n",
       "      <td>5.45329</td>\n",
       "      <td>NaN</td>\n",
       "      <td>NaN</td>\n",
       "      <td>NaN</td>\n",
       "      <td>6.41844</td>\n",
       "      <td>NaN</td>\n",
       "      <td>NaN</td>\n",
       "      <td>NaN</td>\n",
       "      <td>NaN</td>\n",
       "    </tr>\n",
       "    <tr>\n",
       "      <th>What's Eating Gilbert Grape</th>\n",
       "      <td>5.25793</td>\n",
       "      <td>NaN</td>\n",
       "      <td>NaN</td>\n",
       "      <td>NaN</td>\n",
       "      <td>NaN</td>\n",
       "      <td>NaN</td>\n",
       "      <td>NaN</td>\n",
       "      <td>6.30796</td>\n",
       "      <td>NaN</td>\n",
       "      <td>NaN</td>\n",
       "      <td>...</td>\n",
       "      <td>NaN</td>\n",
       "      <td>NaN</td>\n",
       "      <td>NaN</td>\n",
       "      <td>4.98769</td>\n",
       "      <td>4.5558</td>\n",
       "      <td>NaN</td>\n",
       "      <td>NaN</td>\n",
       "      <td>NaN</td>\n",
       "      <td>5.24698</td>\n",
       "      <td>NaN</td>\n",
       "    </tr>\n",
       "    <tr>\n",
       "      <th>What's Love Got to Do with It</th>\n",
       "      <td>NaN</td>\n",
       "      <td>NaN</td>\n",
       "      <td>NaN</td>\n",
       "      <td>NaN</td>\n",
       "      <td>NaN</td>\n",
       "      <td>NaN</td>\n",
       "      <td>NaN</td>\n",
       "      <td>NaN</td>\n",
       "      <td>NaN</td>\n",
       "      <td>NaN</td>\n",
       "      <td>...</td>\n",
       "      <td>NaN</td>\n",
       "      <td>NaN</td>\n",
       "      <td>5.73751</td>\n",
       "      <td>NaN</td>\n",
       "      <td>NaN</td>\n",
       "      <td>NaN</td>\n",
       "      <td>NaN</td>\n",
       "      <td>NaN</td>\n",
       "      <td>NaN</td>\n",
       "      <td>NaN</td>\n",
       "    </tr>\n",
       "    <tr>\n",
       "      <th>When Harry Met Sally...</th>\n",
       "      <td>6.12845</td>\n",
       "      <td>3.31962</td>\n",
       "      <td>6.26218</td>\n",
       "      <td>4.88838</td>\n",
       "      <td>4.61245</td>\n",
       "      <td>4.55059</td>\n",
       "      <td>4.62203</td>\n",
       "      <td>5.12229</td>\n",
       "      <td>NaN</td>\n",
       "      <td>5.40695</td>\n",
       "      <td>...</td>\n",
       "      <td>6.12786</td>\n",
       "      <td>NaN</td>\n",
       "      <td>6.60463</td>\n",
       "      <td>NaN</td>\n",
       "      <td>5.69488</td>\n",
       "      <td>NaN</td>\n",
       "      <td>NaN</td>\n",
       "      <td>5.17942</td>\n",
       "      <td>1.89453</td>\n",
       "      <td>5.41972</td>\n",
       "    </tr>\n",
       "    <tr>\n",
       "      <th>While You Were Sleeping</th>\n",
       "      <td>5.25793</td>\n",
       "      <td>3.31962</td>\n",
       "      <td>NaN</td>\n",
       "      <td>NaN</td>\n",
       "      <td>NaN</td>\n",
       "      <td>NaN</td>\n",
       "      <td>4.62203</td>\n",
       "      <td>3.93662</td>\n",
       "      <td>NaN</td>\n",
       "      <td>NaN</td>\n",
       "      <td>...</td>\n",
       "      <td>NaN</td>\n",
       "      <td>NaN</td>\n",
       "      <td>NaN</td>\n",
       "      <td>3.95952</td>\n",
       "      <td>4.5558</td>\n",
       "      <td>NaN</td>\n",
       "      <td>NaN</td>\n",
       "      <td>NaN</td>\n",
       "      <td>5.24698</td>\n",
       "      <td>NaN</td>\n",
       "    </tr>\n",
       "    <tr>\n",
       "      <th>White Squall</th>\n",
       "      <td>NaN</td>\n",
       "      <td>NaN</td>\n",
       "      <td>NaN</td>\n",
       "      <td>NaN</td>\n",
       "      <td>NaN</td>\n",
       "      <td>NaN</td>\n",
       "      <td>NaN</td>\n",
       "      <td>NaN</td>\n",
       "      <td>NaN</td>\n",
       "      <td>NaN</td>\n",
       "      <td>...</td>\n",
       "      <td>NaN</td>\n",
       "      <td>NaN</td>\n",
       "      <td>NaN</td>\n",
       "      <td>NaN</td>\n",
       "      <td>NaN</td>\n",
       "      <td>NaN</td>\n",
       "      <td>NaN</td>\n",
       "      <td>NaN</td>\n",
       "      <td>NaN</td>\n",
       "      <td>NaN</td>\n",
       "    </tr>\n",
       "    <tr>\n",
       "      <th>William Shakespeare's Romeo and Juliet</th>\n",
       "      <td>NaN</td>\n",
       "      <td>3.31962</td>\n",
       "      <td>NaN</td>\n",
       "      <td>3.87368</td>\n",
       "      <td>NaN</td>\n",
       "      <td>NaN</td>\n",
       "      <td>3.85135</td>\n",
       "      <td>NaN</td>\n",
       "      <td>NaN</td>\n",
       "      <td>6.45022</td>\n",
       "      <td>...</td>\n",
       "      <td>NaN</td>\n",
       "      <td>NaN</td>\n",
       "      <td>NaN</td>\n",
       "      <td>NaN</td>\n",
       "      <td>6.83396</td>\n",
       "      <td>NaN</td>\n",
       "      <td>NaN</td>\n",
       "      <td>NaN</td>\n",
       "      <td>NaN</td>\n",
       "      <td>3.83896</td>\n",
       "    </tr>\n",
       "    <tr>\n",
       "      <th>Willy Wonka and the Chocolate Factory</th>\n",
       "      <td>5.25793</td>\n",
       "      <td>4.86534</td>\n",
       "      <td>4.35011</td>\n",
       "      <td>4.88838</td>\n",
       "      <td>NaN</td>\n",
       "      <td>NaN</td>\n",
       "      <td>NaN</td>\n",
       "      <td>3.93662</td>\n",
       "      <td>NaN</td>\n",
       "      <td>4.36368</td>\n",
       "      <td>...</td>\n",
       "      <td>4.95325</td>\n",
       "      <td>NaN</td>\n",
       "      <td>NaN</td>\n",
       "      <td>6.01585</td>\n",
       "      <td>4.5558</td>\n",
       "      <td>5.37289</td>\n",
       "      <td>3.97651</td>\n",
       "      <td>6.03846</td>\n",
       "      <td>4.1295</td>\n",
       "      <td>5.41972</td>\n",
       "    </tr>\n",
       "    <tr>\n",
       "      <th>Winnie the Pooh and the Blustery Day</th>\n",
       "      <td>NaN</td>\n",
       "      <td>NaN</td>\n",
       "      <td>NaN</td>\n",
       "      <td>NaN</td>\n",
       "      <td>NaN</td>\n",
       "      <td>NaN</td>\n",
       "      <td>NaN</td>\n",
       "      <td>3.93662</td>\n",
       "      <td>NaN</td>\n",
       "      <td>NaN</td>\n",
       "      <td>...</td>\n",
       "      <td>4.95325</td>\n",
       "      <td>NaN</td>\n",
       "      <td>NaN</td>\n",
       "      <td>NaN</td>\n",
       "      <td>NaN</td>\n",
       "      <td>NaN</td>\n",
       "      <td>NaN</td>\n",
       "      <td>NaN</td>\n",
       "      <td>NaN</td>\n",
       "      <td>NaN</td>\n",
       "    </tr>\n",
       "    <tr>\n",
       "      <th>Wizard of Oz, The</th>\n",
       "      <td>5.25793</td>\n",
       "      <td>NaN</td>\n",
       "      <td>6.26218</td>\n",
       "      <td>5.90308</td>\n",
       "      <td>6.37304</td>\n",
       "      <td>NaN</td>\n",
       "      <td>5.39271</td>\n",
       "      <td>6.30796</td>\n",
       "      <td>NaN</td>\n",
       "      <td>5.40695</td>\n",
       "      <td>...</td>\n",
       "      <td>6.12786</td>\n",
       "      <td>NaN</td>\n",
       "      <td>4.8704</td>\n",
       "      <td>6.01585</td>\n",
       "      <td>4.5558</td>\n",
       "      <td>NaN</td>\n",
       "      <td>NaN</td>\n",
       "      <td>5.17942</td>\n",
       "      <td>5.24698</td>\n",
       "      <td>4.62934</td>\n",
       "    </tr>\n",
       "    <tr>\n",
       "      <th>Wolf</th>\n",
       "      <td>NaN</td>\n",
       "      <td>NaN</td>\n",
       "      <td>NaN</td>\n",
       "      <td>4.88838</td>\n",
       "      <td>NaN</td>\n",
       "      <td>NaN</td>\n",
       "      <td>3.85135</td>\n",
       "      <td>NaN</td>\n",
       "      <td>4.7915</td>\n",
       "      <td>NaN</td>\n",
       "      <td>...</td>\n",
       "      <td>NaN</td>\n",
       "      <td>NaN</td>\n",
       "      <td>4.00328</td>\n",
       "      <td>NaN</td>\n",
       "      <td>3.41672</td>\n",
       "      <td>NaN</td>\n",
       "      <td>NaN</td>\n",
       "      <td>3.46134</td>\n",
       "      <td>NaN</td>\n",
       "      <td>3.83896</td>\n",
       "    </tr>\n",
       "    <tr>\n",
       "      <th>Wrong Trousers, The</th>\n",
       "      <td>6.12845</td>\n",
       "      <td>6.41105</td>\n",
       "      <td>5.30615</td>\n",
       "      <td>NaN</td>\n",
       "      <td>NaN</td>\n",
       "      <td>NaN</td>\n",
       "      <td>NaN</td>\n",
       "      <td>6.30796</td>\n",
       "      <td>NaN</td>\n",
       "      <td>NaN</td>\n",
       "      <td>...</td>\n",
       "      <td>NaN</td>\n",
       "      <td>NaN</td>\n",
       "      <td>NaN</td>\n",
       "      <td>NaN</td>\n",
       "      <td>NaN</td>\n",
       "      <td>NaN</td>\n",
       "      <td>6.10632</td>\n",
       "      <td>NaN</td>\n",
       "      <td>NaN</td>\n",
       "      <td>NaN</td>\n",
       "    </tr>\n",
       "    <tr>\n",
       "      <th>Wyatt Earp</th>\n",
       "      <td>NaN</td>\n",
       "      <td>NaN</td>\n",
       "      <td>NaN</td>\n",
       "      <td>3.87368</td>\n",
       "      <td>NaN</td>\n",
       "      <td>NaN</td>\n",
       "      <td>6.16339</td>\n",
       "      <td>NaN</td>\n",
       "      <td>NaN</td>\n",
       "      <td>NaN</td>\n",
       "      <td>...</td>\n",
       "      <td>3.77863</td>\n",
       "      <td>NaN</td>\n",
       "      <td>4.00328</td>\n",
       "      <td>NaN</td>\n",
       "      <td>4.5558</td>\n",
       "      <td>NaN</td>\n",
       "      <td>5.04141</td>\n",
       "      <td>NaN</td>\n",
       "      <td>NaN</td>\n",
       "      <td>3.04858</td>\n",
       "    </tr>\n",
       "    <tr>\n",
       "      <th>Young Frankenstein</th>\n",
       "      <td>6.12845</td>\n",
       "      <td>5.63819</td>\n",
       "      <td>5.30615</td>\n",
       "      <td>5.90308</td>\n",
       "      <td>NaN</td>\n",
       "      <td>5.65862</td>\n",
       "      <td>6.16339</td>\n",
       "      <td>5.12229</td>\n",
       "      <td>NaN</td>\n",
       "      <td>NaN</td>\n",
       "      <td>...</td>\n",
       "      <td>4.95325</td>\n",
       "      <td>NaN</td>\n",
       "      <td>NaN</td>\n",
       "      <td>6.01585</td>\n",
       "      <td>NaN</td>\n",
       "      <td>NaN</td>\n",
       "      <td>6.10632</td>\n",
       "      <td>NaN</td>\n",
       "      <td>6.36446</td>\n",
       "      <td>NaN</td>\n",
       "    </tr>\n",
       "    <tr>\n",
       "      <th>Young Guns</th>\n",
       "      <td>4.38742</td>\n",
       "      <td>NaN</td>\n",
       "      <td>NaN</td>\n",
       "      <td>3.87368</td>\n",
       "      <td>NaN</td>\n",
       "      <td>NaN</td>\n",
       "      <td>4.62203</td>\n",
       "      <td>NaN</td>\n",
       "      <td>NaN</td>\n",
       "      <td>NaN</td>\n",
       "      <td>...</td>\n",
       "      <td>NaN</td>\n",
       "      <td>NaN</td>\n",
       "      <td>4.8704</td>\n",
       "      <td>6.01585</td>\n",
       "      <td>4.5558</td>\n",
       "      <td>NaN</td>\n",
       "      <td>NaN</td>\n",
       "      <td>3.46134</td>\n",
       "      <td>NaN</td>\n",
       "      <td>5.41972</td>\n",
       "    </tr>\n",
       "  </tbody>\n",
       "</table>\n",
       "<p>514 rows × 226 columns</p>\n",
       "</div>"
      ],
      "text/plain": [
       "user_id                                                1        5        6    \\\n",
       "title                                                                          \n",
       "101 Dalmatians                                      3.5169  4.09248      NaN   \n",
       "12 Angry Men                                       6.12845      NaN  5.30615   \n",
       "2 Days in the Valley                                   NaN      NaN      NaN   \n",
       "20,000 Leagues Under the Sea                       4.38742      NaN      NaN   \n",
       "2001: A Space Odyssey                              5.25793  5.63819  6.26218   \n",
       "Absolute Power                                         NaN      NaN      NaN   \n",
       "Abyss, The                                         4.38742      NaN      NaN   \n",
       "Ace Ventura: Pet Detective                         4.38742      NaN      NaN   \n",
       "Addams Family Values                                   NaN  4.09248      NaN   \n",
       "Adventures of Priscilla, Queen of the Desert, The      NaN  6.41105      NaN   \n",
       "Adventures of Robin Hood, The                          NaN      NaN  5.30615   \n",
       "African Queen, The                                     NaN      NaN  5.30615   \n",
       "Age of Innocence, The                                  NaN  4.86534      NaN   \n",
       "Air Force One                                          NaN      NaN      NaN   \n",
       "Aladdin                                            5.25793  5.63819  3.39407   \n",
       "Alice in Wonderland                                    NaN  4.86534      NaN   \n",
       "Alien                                              6.12845  5.63819  5.30615   \n",
       "Alien 3                                                NaN      NaN      NaN   \n",
       "Aliens                                             6.12845  4.86534      NaN   \n",
       "All About Eve                                          NaN      NaN      NaN   \n",
       "Amadeus                                            6.12845      NaN  5.30615   \n",
       "American President, The                                NaN      NaN      NaN   \n",
       "American Werewolf in London, An                        NaN  6.41105      NaN   \n",
       "Annie Hall                                             NaN      NaN  6.26218   \n",
       "Apartment, The                                         NaN      NaN  6.26218   \n",
       "Apocalypse Now                                     4.38742      NaN  5.30615   \n",
       "Apollo 13                                          5.25793      NaN  3.39407   \n",
       "Apt Pupil                                              NaN      NaN      NaN   \n",
       "Aristocats, The                                     3.5169  4.86534      NaN   \n",
       "Army of Darkness                                   5.25793      NaN      NaN   \n",
       "...                                                    ...      ...      ...   \n",
       "Twister                                            4.38742      NaN      NaN   \n",
       "Ulee's Gold                                            NaN      NaN  4.35011   \n",
       "Unbearable Lightness of Being, The                 5.25793      NaN      NaN   \n",
       "Under Siege                                         3.5169  5.63819      NaN   \n",
       "Unforgiven                                         5.25793      NaN  4.35011   \n",
       "Up Close and Personal                                  NaN      NaN      NaN   \n",
       "Usual Suspects, The                                6.12845      NaN  5.30615   \n",
       "Vertigo                                                NaN      NaN  6.26218   \n",
       "Very Brady Sequel, A                                   NaN  4.86534      NaN   \n",
       "Victor/Victoria                                        NaN      NaN      NaN   \n",
       "Volcano                                                NaN      NaN      NaN   \n",
       "Wag the Dog                                            NaN      NaN      NaN   \n",
       "Walk in the Clouds, A                                  NaN      NaN      NaN   \n",
       "Waterworld                                             NaN      NaN      NaN   \n",
       "Weekend at Bernie's                                4.38742      NaN      NaN   \n",
       "Welcome to the Dollhouse                           6.12845      NaN      NaN   \n",
       "What's Eating Gilbert Grape                        5.25793      NaN      NaN   \n",
       "What's Love Got to Do with It                          NaN      NaN      NaN   \n",
       "When Harry Met Sally...                            6.12845  3.31962  6.26218   \n",
       "While You Were Sleeping                            5.25793  3.31962      NaN   \n",
       "White Squall                                           NaN      NaN      NaN   \n",
       "William Shakespeare's Romeo and Juliet                 NaN  3.31962      NaN   \n",
       "Willy Wonka and the Chocolate Factory              5.25793  4.86534  4.35011   \n",
       "Winnie the Pooh and the Blustery Day                   NaN      NaN      NaN   \n",
       "Wizard of Oz, The                                  5.25793      NaN  6.26218   \n",
       "Wolf                                                   NaN      NaN      NaN   \n",
       "Wrong Trousers, The                                6.12845  6.41105  5.30615   \n",
       "Wyatt Earp                                             NaN      NaN      NaN   \n",
       "Young Frankenstein                                 6.12845  5.63819  5.30615   \n",
       "Young Guns                                         4.38742      NaN      NaN   \n",
       "\n",
       "user_id                                                7        10       11   \\\n",
       "title                                                                          \n",
       "101 Dalmatians                                         NaN      NaN      NaN   \n",
       "12 Angry Men                                       4.88838  6.37304      NaN   \n",
       "2 Days in the Valley                                   NaN      NaN      NaN   \n",
       "20,000 Leagues Under the Sea                       5.90308      NaN      NaN   \n",
       "2001: A Space Odyssey                              5.90308  6.37304  5.65862   \n",
       "Absolute Power                                         NaN      NaN  5.65862   \n",
       "Abyss, The                                         5.90308  4.61245      NaN   \n",
       "Ace Ventura: Pet Detective                             NaN      NaN      NaN   \n",
       "Addams Family Values                               4.88838      NaN  4.55059   \n",
       "Adventures of Priscilla, Queen of the Desert, The  4.88838      NaN  4.55059   \n",
       "Adventures of Robin Hood, The                      5.90308      NaN      NaN   \n",
       "African Queen, The                                 5.90308  6.37304      NaN   \n",
       "Age of Innocence, The                              3.87368      NaN      NaN   \n",
       "Air Force One                                      4.88838      NaN  4.55059   \n",
       "Aladdin                                                NaN      NaN      NaN   \n",
       "Alice in Wonderland                                5.90308  4.61245      NaN   \n",
       "Alien                                              4.88838  6.37304      NaN   \n",
       "Alien 3                                            4.88838      NaN      NaN   \n",
       "Aliens                                             3.87368  4.61245  4.55059   \n",
       "All About Eve                                      3.87368  6.37304      NaN   \n",
       "Amadeus                                            5.90308  6.37304  5.65862   \n",
       "American President, The                                NaN  4.61245  5.65862   \n",
       "American Werewolf in London, An                    5.90308      NaN      NaN   \n",
       "Annie Hall                                         2.85898      NaN      NaN   \n",
       "Apartment, The                                     5.90308      NaN      NaN   \n",
       "Apocalypse Now                                     5.90308  6.37304  3.44256   \n",
       "Apollo 13                                          5.90308      NaN  6.76665   \n",
       "Apt Pupil                                              NaN      NaN      NaN   \n",
       "Aristocats, The                                        NaN      NaN      NaN   \n",
       "Army of Darkness                                       NaN      NaN      NaN   \n",
       "...                                                    ...      ...      ...   \n",
       "Twister                                            2.85898      NaN      NaN   \n",
       "Ulee's Gold                                            NaN      NaN      NaN   \n",
       "Unbearable Lightness of Being, The                 1.84428      NaN      NaN   \n",
       "Under Siege                                            NaN      NaN      NaN   \n",
       "Unforgiven                                         5.90308  4.61245  5.65862   \n",
       "Up Close and Personal                                  NaN      NaN      NaN   \n",
       "Usual Suspects, The                                5.90308  6.37304  3.44256   \n",
       "Vertigo                                            4.88838  6.37304      NaN   \n",
       "Very Brady Sequel, A                                   NaN      NaN      NaN   \n",
       "Victor/Victoria                                    3.87368  4.61245      NaN   \n",
       "Volcano                                            3.87368      NaN      NaN   \n",
       "Wag the Dog                                            NaN      NaN      NaN   \n",
       "Walk in the Clouds, A                              3.87368      NaN      NaN   \n",
       "Waterworld                                         3.87368      NaN      NaN   \n",
       "Weekend at Bernie's                                    NaN      NaN      NaN   \n",
       "Welcome to the Dollhouse                           5.90308  4.61245      NaN   \n",
       "What's Eating Gilbert Grape                            NaN      NaN      NaN   \n",
       "What's Love Got to Do with It                          NaN      NaN      NaN   \n",
       "When Harry Met Sally...                            4.88838  4.61245  4.55059   \n",
       "While You Were Sleeping                                NaN      NaN      NaN   \n",
       "White Squall                                           NaN      NaN      NaN   \n",
       "William Shakespeare's Romeo and Juliet             3.87368      NaN      NaN   \n",
       "Willy Wonka and the Chocolate Factory              4.88838      NaN      NaN   \n",
       "Winnie the Pooh and the Blustery Day                   NaN      NaN      NaN   \n",
       "Wizard of Oz, The                                  5.90308  6.37304      NaN   \n",
       "Wolf                                               4.88838      NaN      NaN   \n",
       "Wrong Trousers, The                                    NaN      NaN      NaN   \n",
       "Wyatt Earp                                         3.87368      NaN      NaN   \n",
       "Young Frankenstein                                 5.90308      NaN  5.65862   \n",
       "Young Guns                                         3.87368      NaN      NaN   \n",
       "\n",
       "user_id                                                13       18       21   \\\n",
       "title                                                                          \n",
       "101 Dalmatians                                     3.85135      NaN      NaN   \n",
       "12 Angry Men                                       5.39271  3.93662      NaN   \n",
       "2 Days in the Valley                                   NaN      NaN      NaN   \n",
       "20,000 Leagues Under the Sea                       3.85135      NaN      NaN   \n",
       "2001: A Space Odyssey                              6.16339  3.93662      NaN   \n",
       "Absolute Power                                         NaN      NaN   4.7915   \n",
       "Abyss, The                                         4.62203      NaN  6.30434   \n",
       "Ace Ventura: Pet Detective                         3.08067      NaN      NaN   \n",
       "Addams Family Values                                   NaN  2.75095      NaN   \n",
       "Adventures of Priscilla, Queen of the Desert, The  3.08067  3.93662      NaN   \n",
       "Adventures of Robin Hood, The                      5.39271      NaN      NaN   \n",
       "African Queen, The                                 5.39271  5.12229      NaN   \n",
       "Age of Innocence, The                              4.62203  5.12229      NaN   \n",
       "Air Force One                                      3.08067      NaN   4.7915   \n",
       "Aladdin                                            6.16339  5.12229      NaN   \n",
       "Alice in Wonderland                                5.39271      NaN      NaN   \n",
       "Alien                                              5.39271      NaN      NaN   \n",
       "Alien 3                                            3.85135      NaN   4.7915   \n",
       "Aliens                                             4.62203      NaN      NaN   \n",
       "All About Eve                                      5.39271      NaN      NaN   \n",
       "Amadeus                                            4.62203  5.12229      NaN   \n",
       "American President, The                            5.39271  3.93662      NaN   \n",
       "American Werewolf in London, An                    3.85135      NaN  5.54792   \n",
       "Annie Hall                                         6.16339  6.30796      NaN   \n",
       "Apartment, The                                     4.62203      NaN      NaN   \n",
       "Apocalypse Now                                     6.16339  5.12229      NaN   \n",
       "Apollo 13                                          6.16339  3.93662      NaN   \n",
       "Apt Pupil                                          6.16339      NaN      NaN   \n",
       "Aristocats, The                                        NaN      NaN      NaN   \n",
       "Army of Darkness                                   3.08067      NaN  5.54792   \n",
       "...                                                    ...      ...      ...   \n",
       "Twister                                            5.39271      NaN  3.27867   \n",
       "Ulee's Gold                                        5.39271      NaN      NaN   \n",
       "Unbearable Lightness of Being, The                 6.16339  6.30796      NaN   \n",
       "Under Siege                                        5.39271      NaN      NaN   \n",
       "Unforgiven                                             NaN      NaN      NaN   \n",
       "Up Close and Personal                              5.39271      NaN      NaN   \n",
       "Usual Suspects, The                                6.16339  6.30796      NaN   \n",
       "Vertigo                                                NaN  5.12229      NaN   \n",
       "Very Brady Sequel, A                                   NaN      NaN      NaN   \n",
       "Victor/Victoria                                    3.08067  3.93662      NaN   \n",
       "Volcano                                            4.62203      NaN  4.03508   \n",
       "Wag the Dog                                        6.16339      NaN      NaN   \n",
       "Walk in the Clouds, A                              3.85135      NaN      NaN   \n",
       "Waterworld                                         3.85135      NaN      NaN   \n",
       "Weekend at Bernie's                                3.08067      NaN      NaN   \n",
       "Welcome to the Dollhouse                               NaN      NaN      NaN   \n",
       "What's Eating Gilbert Grape                            NaN  6.30796      NaN   \n",
       "What's Love Got to Do with It                          NaN      NaN      NaN   \n",
       "When Harry Met Sally...                            4.62203  5.12229      NaN   \n",
       "While You Were Sleeping                            4.62203  3.93662      NaN   \n",
       "White Squall                                           NaN      NaN      NaN   \n",
       "William Shakespeare's Romeo and Juliet             3.85135      NaN      NaN   \n",
       "Willy Wonka and the Chocolate Factory                  NaN  3.93662      NaN   \n",
       "Winnie the Pooh and the Blustery Day                   NaN  3.93662      NaN   \n",
       "Wizard of Oz, The                                  5.39271  6.30796      NaN   \n",
       "Wolf                                               3.85135      NaN   4.7915   \n",
       "Wrong Trousers, The                                    NaN  6.30796      NaN   \n",
       "Wyatt Earp                                         6.16339      NaN      NaN   \n",
       "Young Frankenstein                                 6.16339  5.12229      NaN   \n",
       "Young Guns                                         4.62203      NaN      NaN   \n",
       "\n",
       "user_id                                                23    ...         892  \\\n",
       "title                                                        ...               \n",
       "101 Dalmatians                                         NaN   ...         NaN   \n",
       "12 Angry Men                                           NaN   ...     6.12786   \n",
       "2 Days in the Valley                                   NaN   ...         NaN   \n",
       "20,000 Leagues Under the Sea                           NaN   ...         NaN   \n",
       "2001: A Space Odyssey                                  NaN   ...     6.12786   \n",
       "Absolute Power                                         NaN   ...     4.95325   \n",
       "Abyss, The                                             NaN   ...         NaN   \n",
       "Ace Ventura: Pet Detective                             NaN   ...     4.95325   \n",
       "Addams Family Values                               5.40695   ...         NaN   \n",
       "Adventures of Priscilla, Queen of the Desert, The      NaN   ...         NaN   \n",
       "Adventures of Robin Hood, The                          NaN   ...         NaN   \n",
       "African Queen, The                                     NaN   ...         NaN   \n",
       "Age of Innocence, The                              4.36368   ...         NaN   \n",
       "Air Force One                                          NaN   ...     4.95325   \n",
       "Aladdin                                            5.40695   ...     4.95325   \n",
       "Alice in Wonderland                                    NaN   ...     2.60402   \n",
       "Alien                                              4.36368   ...     6.12786   \n",
       "Alien 3                                                NaN   ...         NaN   \n",
       "Aliens                                             4.36368   ...     6.12786   \n",
       "All About Eve                                          NaN   ...         NaN   \n",
       "Amadeus                                            4.36368   ...     6.12786   \n",
       "American President, The                                NaN   ...     4.95325   \n",
       "American Werewolf in London, An                        NaN   ...     3.77863   \n",
       "Annie Hall                                             NaN   ...         NaN   \n",
       "Apartment, The                                         NaN   ...     6.12786   \n",
       "Apocalypse Now                                         NaN   ...     6.12786   \n",
       "Apollo 13                                          4.36368   ...     4.95325   \n",
       "Apt Pupil                                          4.36368   ...         NaN   \n",
       "Aristocats, The                                    4.36368   ...     3.77863   \n",
       "Army of Darkness                                       NaN   ...     4.95325   \n",
       "...                                                    ...   ...         ...   \n",
       "Twister                                                NaN   ...     4.95325   \n",
       "Ulee's Gold                                            NaN   ...         NaN   \n",
       "Unbearable Lightness of Being, The                     NaN   ...         NaN   \n",
       "Under Siege                                            NaN   ...     6.12786   \n",
       "Unforgiven                                         5.40695   ...     6.12786   \n",
       "Up Close and Personal                                  NaN   ...         NaN   \n",
       "Usual Suspects, The                                    NaN   ...     6.12786   \n",
       "Vertigo                                            6.45022   ...     6.12786   \n",
       "Very Brady Sequel, A                                   NaN   ...         NaN   \n",
       "Victor/Victoria                                    5.40695   ...         NaN   \n",
       "Volcano                                                NaN   ...         NaN   \n",
       "Wag the Dog                                            NaN   ...         NaN   \n",
       "Walk in the Clouds, A                                  NaN   ...         NaN   \n",
       "Waterworld                                             NaN   ...         NaN   \n",
       "Weekend at Bernie's                                    NaN   ...         NaN   \n",
       "Welcome to the Dollhouse                               NaN   ...         NaN   \n",
       "What's Eating Gilbert Grape                            NaN   ...         NaN   \n",
       "What's Love Got to Do with It                          NaN   ...         NaN   \n",
       "When Harry Met Sally...                            5.40695   ...     6.12786   \n",
       "While You Were Sleeping                                NaN   ...         NaN   \n",
       "White Squall                                           NaN   ...         NaN   \n",
       "William Shakespeare's Romeo and Juliet             6.45022   ...         NaN   \n",
       "Willy Wonka and the Chocolate Factory              4.36368   ...     4.95325   \n",
       "Winnie the Pooh and the Blustery Day                   NaN   ...     4.95325   \n",
       "Wizard of Oz, The                                  5.40695   ...     6.12786   \n",
       "Wolf                                                   NaN   ...         NaN   \n",
       "Wrong Trousers, The                                    NaN   ...         NaN   \n",
       "Wyatt Earp                                             NaN   ...     3.77863   \n",
       "Young Frankenstein                                     NaN   ...     4.95325   \n",
       "Young Guns                                             NaN   ...         NaN   \n",
       "\n",
       "user_id                                                894      896      897  \\\n",
       "title                                                                          \n",
       "101 Dalmatians                                         NaN  3.13616      NaN   \n",
       "12 Angry Men                                           NaN      NaN      NaN   \n",
       "2 Days in the Valley                                   NaN  4.00328      NaN   \n",
       "20,000 Leagues Under the Sea                           NaN   4.8704  4.98769   \n",
       "2001: A Space Odyssey                                  NaN   4.8704  3.95952   \n",
       "Absolute Power                                         NaN   4.8704      NaN   \n",
       "Abyss, The                                             NaN  5.73751      NaN   \n",
       "Ace Ventura: Pet Detective                             NaN  4.00328      NaN   \n",
       "Addams Family Values                                   NaN   4.8704      NaN   \n",
       "Adventures of Priscilla, Queen of the Desert, The      NaN      NaN      NaN   \n",
       "Adventures of Robin Hood, The                          NaN      NaN      NaN   \n",
       "African Queen, The                                     NaN      NaN  6.01585   \n",
       "Age of Innocence, The                                  NaN  4.00328      NaN   \n",
       "Air Force One                                      5.45329  4.00328      NaN   \n",
       "Aladdin                                                NaN  5.73751  3.95952   \n",
       "Alice in Wonderland                                    NaN  5.73751      NaN   \n",
       "Alien                                                  NaN  5.73751  6.01585   \n",
       "Alien 3                                                NaN  3.13616      NaN   \n",
       "Aliens                                                 NaN  6.60463  6.01585   \n",
       "All About Eve                                          NaN      NaN      NaN   \n",
       "Amadeus                                                NaN  5.73751      NaN   \n",
       "American President, The                                NaN  5.73751      NaN   \n",
       "American Werewolf in London, An                        NaN   4.8704  4.98769   \n",
       "Annie Hall                                             NaN      NaN      NaN   \n",
       "Apartment, The                                         NaN  5.73751      NaN   \n",
       "Apocalypse Now                                         NaN  6.60463  6.01585   \n",
       "Apollo 13                                              NaN  4.00328  4.98769   \n",
       "Apt Pupil                                          5.45329      NaN      NaN   \n",
       "Aristocats, The                                        NaN      NaN      NaN   \n",
       "Army of Darkness                                       NaN   4.8704  4.98769   \n",
       "...                                                    ...      ...      ...   \n",
       "Twister                                                NaN  4.00328  6.01585   \n",
       "Ulee's Gold                                        5.45329      NaN      NaN   \n",
       "Unbearable Lightness of Being, The                 6.76278  4.00328      NaN   \n",
       "Under Siege                                            NaN  4.00328      NaN   \n",
       "Unforgiven                                             NaN  6.60463  4.98769   \n",
       "Up Close and Personal                              4.14379      NaN      NaN   \n",
       "Usual Suspects, The                                6.76278   4.8704      NaN   \n",
       "Vertigo                                            6.76278   4.8704  4.98769   \n",
       "Very Brady Sequel, A                                   NaN      NaN      NaN   \n",
       "Victor/Victoria                                        NaN      NaN      NaN   \n",
       "Volcano                                            4.14379      NaN      NaN   \n",
       "Wag the Dog                                        5.45329      NaN      NaN   \n",
       "Walk in the Clouds, A                                  NaN      NaN      NaN   \n",
       "Waterworld                                             NaN  4.00328      NaN   \n",
       "Weekend at Bernie's                                    NaN      NaN      NaN   \n",
       "Welcome to the Dollhouse                           5.45329      NaN      NaN   \n",
       "What's Eating Gilbert Grape                            NaN      NaN  4.98769   \n",
       "What's Love Got to Do with It                          NaN  5.73751      NaN   \n",
       "When Harry Met Sally...                                NaN  6.60463      NaN   \n",
       "While You Were Sleeping                                NaN      NaN  3.95952   \n",
       "White Squall                                           NaN      NaN      NaN   \n",
       "William Shakespeare's Romeo and Juliet                 NaN      NaN      NaN   \n",
       "Willy Wonka and the Chocolate Factory                  NaN      NaN  6.01585   \n",
       "Winnie the Pooh and the Blustery Day                   NaN      NaN      NaN   \n",
       "Wizard of Oz, The                                      NaN   4.8704  6.01585   \n",
       "Wolf                                                   NaN  4.00328      NaN   \n",
       "Wrong Trousers, The                                    NaN      NaN      NaN   \n",
       "Wyatt Earp                                             NaN  4.00328      NaN   \n",
       "Young Frankenstein                                     NaN      NaN  6.01585   \n",
       "Young Guns                                             NaN   4.8704  6.01585   \n",
       "\n",
       "user_id                                                916      919      932  \\\n",
       "title                                                                          \n",
       "101 Dalmatians                                         NaN      NaN  2.91161   \n",
       "12 Angry Men                                           NaN      NaN  6.10632   \n",
       "2 Days in the Valley                               5.69488      NaN      NaN   \n",
       "20,000 Leagues Under the Sea                           NaN      NaN  5.04141   \n",
       "2001: A Space Odyssey                              5.69488      NaN  6.10632   \n",
       "Absolute Power                                         NaN      NaN      NaN   \n",
       "Abyss, The                                         5.69488      NaN      NaN   \n",
       "Ace Ventura: Pet Detective                             NaN      NaN  2.91161   \n",
       "Addams Family Values                                   NaN      NaN      NaN   \n",
       "Adventures of Priscilla, Queen of the Desert, The  5.69488  6.41844      NaN   \n",
       "Adventures of Robin Hood, The                          NaN      NaN  6.10632   \n",
       "African Queen, The                                  4.5558      NaN  6.10632   \n",
       "Age of Innocence, The                              5.69488      NaN      NaN   \n",
       "Air Force One                                          NaN  5.37289      NaN   \n",
       "Aladdin                                                NaN  5.37289      NaN   \n",
       "Alice in Wonderland                                    NaN      NaN      NaN   \n",
       "Alien                                              5.69488  4.32734  5.04141   \n",
       "Alien 3                                                NaN      NaN  2.91161   \n",
       "Aliens                                             5.69488      NaN  6.10632   \n",
       "All About Eve                                          NaN      NaN  5.04141   \n",
       "Amadeus                                                NaN  6.41844  5.04141   \n",
       "American President, The                                NaN      NaN      NaN   \n",
       "American Werewolf in London, An                        NaN      NaN  3.97651   \n",
       "Annie Hall                                             NaN      NaN  6.10632   \n",
       "Apartment, The                                         NaN      NaN  5.04141   \n",
       "Apocalypse Now                                     6.83396      NaN  5.04141   \n",
       "Apollo 13                                          5.69488  5.37289      NaN   \n",
       "Apt Pupil                                              NaN  4.32734      NaN   \n",
       "Aristocats, The                                        NaN      NaN      NaN   \n",
       "Army of Darkness                                       NaN      NaN      NaN   \n",
       "...                                                    ...      ...      ...   \n",
       "Twister                                            3.41672  5.37289      NaN   \n",
       "Ulee's Gold                                            NaN  5.37289      NaN   \n",
       "Unbearable Lightness of Being, The                 6.83396      NaN  5.04141   \n",
       "Under Siege                                         4.5558      NaN      NaN   \n",
       "Unforgiven                                         5.69488      NaN  5.04141   \n",
       "Up Close and Personal                              3.41672      NaN      NaN   \n",
       "Usual Suspects, The                                5.69488  4.32734      NaN   \n",
       "Vertigo                                                NaN      NaN  6.10632   \n",
       "Very Brady Sequel, A                                   NaN  3.28179      NaN   \n",
       "Victor/Victoria                                        NaN      NaN      NaN   \n",
       "Volcano                                            3.41672  3.28179      NaN   \n",
       "Wag the Dog                                            NaN  4.32734      NaN   \n",
       "Walk in the Clouds, A                                  NaN      NaN      NaN   \n",
       "Waterworld                                             NaN      NaN      NaN   \n",
       "Weekend at Bernie's                                3.41672      NaN      NaN   \n",
       "Welcome to the Dollhouse                               NaN  6.41844      NaN   \n",
       "What's Eating Gilbert Grape                         4.5558      NaN      NaN   \n",
       "What's Love Got to Do with It                          NaN      NaN      NaN   \n",
       "When Harry Met Sally...                            5.69488      NaN      NaN   \n",
       "While You Were Sleeping                             4.5558      NaN      NaN   \n",
       "White Squall                                           NaN      NaN      NaN   \n",
       "William Shakespeare's Romeo and Juliet             6.83396      NaN      NaN   \n",
       "Willy Wonka and the Chocolate Factory               4.5558  5.37289  3.97651   \n",
       "Winnie the Pooh and the Blustery Day                   NaN      NaN      NaN   \n",
       "Wizard of Oz, The                                   4.5558      NaN      NaN   \n",
       "Wolf                                               3.41672      NaN      NaN   \n",
       "Wrong Trousers, The                                    NaN      NaN  6.10632   \n",
       "Wyatt Earp                                          4.5558      NaN  5.04141   \n",
       "Young Frankenstein                                     NaN      NaN  6.10632   \n",
       "Young Guns                                          4.5558      NaN      NaN   \n",
       "\n",
       "user_id                                                933      934      943  \n",
       "title                                                                         \n",
       "101 Dalmatians                                         NaN  3.01202      NaN  \n",
       "12 Angry Men                                           NaN      NaN      NaN  \n",
       "2 Days in the Valley                                   NaN      NaN  3.83896  \n",
       "20,000 Leagues Under the Sea                           NaN      NaN      NaN  \n",
       "2001: A Space Odyssey                              6.03846  5.24698      NaN  \n",
       "Absolute Power                                         NaN      NaN      NaN  \n",
       "Abyss, The                                         4.32038      NaN      NaN  \n",
       "Ace Ventura: Pet Detective                         3.46134  5.24698  5.41972  \n",
       "Addams Family Values                                   NaN      NaN  3.04858  \n",
       "Adventures of Priscilla, Queen of the Desert, The      NaN      NaN      NaN  \n",
       "Adventures of Robin Hood, The                          NaN      NaN      NaN  \n",
       "African Queen, The                                     NaN   4.1295      NaN  \n",
       "Age of Innocence, The                                  NaN      NaN      NaN  \n",
       "Air Force One                                          NaN      NaN      NaN  \n",
       "Aladdin                                            5.17942      NaN      NaN  \n",
       "Alice in Wonderland                                    NaN  5.24698      NaN  \n",
       "Alien                                              6.03846  3.01202      NaN  \n",
       "Alien 3                                            3.46134      NaN      NaN  \n",
       "Aliens                                             5.17942      NaN      NaN  \n",
       "All About Eve                                          NaN      NaN      NaN  \n",
       "Amadeus                                                NaN  6.36446      NaN  \n",
       "American President, The                                NaN      NaN      NaN  \n",
       "American Werewolf in London, An                        NaN   4.1295      NaN  \n",
       "Annie Hall                                             NaN  6.36446      NaN  \n",
       "Apartment, The                                         NaN  5.24698      NaN  \n",
       "Apocalypse Now                                      6.8975      NaN      NaN  \n",
       "Apollo 13                                          6.03846      NaN  5.41972  \n",
       "Apt Pupil                                              NaN  5.24698      NaN  \n",
       "Aristocats, The                                        NaN      NaN      NaN  \n",
       "Army of Darkness                                   3.46134      NaN   6.2101  \n",
       "...                                                    ...      ...      ...  \n",
       "Twister                                                NaN      NaN      NaN  \n",
       "Ulee's Gold                                            NaN  5.80572      NaN  \n",
       "Unbearable Lightness of Being, The                     NaN  5.24698      NaN  \n",
       "Under Siege                                        4.32038      NaN   6.2101  \n",
       "Unforgiven                                             NaN      NaN      NaN  \n",
       "Up Close and Personal                                  NaN      NaN      NaN  \n",
       "Usual Suspects, The                                6.03846      NaN   6.2101  \n",
       "Vertigo                                                NaN      NaN      NaN  \n",
       "Very Brady Sequel, A                                   NaN      NaN  3.83896  \n",
       "Victor/Victoria                                        NaN  5.24698      NaN  \n",
       "Volcano                                                NaN      NaN      NaN  \n",
       "Wag the Dog                                            NaN      NaN      NaN  \n",
       "Walk in the Clouds, A                                  NaN      NaN      NaN  \n",
       "Waterworld                                             NaN  5.24698      NaN  \n",
       "Weekend at Bernie's                                    NaN      NaN      NaN  \n",
       "Welcome to the Dollhouse                               NaN      NaN      NaN  \n",
       "What's Eating Gilbert Grape                            NaN  5.24698      NaN  \n",
       "What's Love Got to Do with It                          NaN      NaN      NaN  \n",
       "When Harry Met Sally...                            5.17942  1.89453  5.41972  \n",
       "While You Were Sleeping                                NaN  5.24698      NaN  \n",
       "White Squall                                           NaN      NaN      NaN  \n",
       "William Shakespeare's Romeo and Juliet                 NaN      NaN  3.83896  \n",
       "Willy Wonka and the Chocolate Factory              6.03846   4.1295  5.41972  \n",
       "Winnie the Pooh and the Blustery Day                   NaN      NaN      NaN  \n",
       "Wizard of Oz, The                                  5.17942  5.24698  4.62934  \n",
       "Wolf                                               3.46134      NaN  3.83896  \n",
       "Wrong Trousers, The                                    NaN      NaN      NaN  \n",
       "Wyatt Earp                                             NaN      NaN  3.04858  \n",
       "Young Frankenstein                                     NaN  6.36446      NaN  \n",
       "Young Guns                                         3.46134      NaN  5.41972  \n",
       "\n",
       "[514 rows x 226 columns]"
      ]
     },
     "execution_count": 58,
     "metadata": {},
     "output_type": "execute_result"
    }
   ],
   "source": [
    "i2i = utility_std.T\n",
    "i2i"
   ]
  },
  {
   "cell_type": "markdown",
   "metadata": {
    "slideshow": {
     "slide_type": "slide"
    }
   },
   "source": [
    "Again, I want to predict how much user 5 will like 12 Angry Men.\n",
    "\n",
    "I will look at other films user 5 has seen and calculate their similarity to 12 Angry Men in terms of how people rate them.\n",
    "\n",
    "\n",
    "**Simplified Example**:\n",
    "If user 5 has seen 2 other films:<br>\n",
    "** (1st closest cosine sim film x U1's product rating + 2nd closest cosine sim film x U2's rating) / (sum of 1st and 2nd's cosine sims) **"
   ]
  },
  {
   "cell_type": "code",
   "execution_count": 59,
   "metadata": {
    "collapsed": true,
    "slideshow": {
     "slide_type": "slide"
    }
   },
   "outputs": [],
   "source": [
    "# function to calculate similarity between any two films\n",
    "# if they have fewer than n reviewers in common, it'll return 0\n",
    "def sim_film(film1, film2, n):\n",
    "    commons = i2i.loc[[film1,film2]].dropna(axis=1)\n",
    "    if len(commons.columns)<n:\n",
    "        return 0\n",
    "    else:\n",
    "        return cosine_similarity(commons.loc[film1,:].values.reshape(1,-1), \\\n",
    "                                 commons.loc[film2,:].values.reshape(1,-1))[0][0]\n",
    "    return commons"
   ]
  },
  {
   "cell_type": "code",
   "execution_count": 60,
   "metadata": {
    "slideshow": {
     "slide_type": "fragment"
    }
   },
   "outputs": [
    {
     "data": {
      "text/plain": [
       "0.96677883328871184"
      ]
     },
     "execution_count": 60,
     "metadata": {},
     "output_type": "execute_result"
    }
   ],
   "source": [
    "sim_film('Ace Ventura: Pet Detective', 'Scream', 5)"
   ]
  },
  {
   "cell_type": "code",
   "execution_count": 61,
   "metadata": {
    "collapsed": true,
    "slideshow": {
     "slide_type": "slide"
    }
   },
   "outputs": [],
   "source": [
    "def rating_estimator_i2i(user, title):\n",
    "    '''doesnt check if user has seen title.  assumes we are only asking about unseen titles'''\n",
    "    #find all films the user has seen\n",
    "    films = list(i2i[user].dropna().index)\n",
    "    ratings = list(i2i[user].dropna().values)\n",
    "    sims = []\n",
    "    for f in films:\n",
    "        sims.append(sim_film(title,f,10))\n",
    "    return np.sum([i*j for i, j in zip(ratings, sims)]) / np.sum(sims)\n"
   ]
  },
  {
   "cell_type": "code",
   "execution_count": 62,
   "metadata": {
    "collapsed": true,
    "slideshow": {
     "slide_type": "slide"
    }
   },
   "outputs": [],
   "source": [
    "def recommend_films_i2i(user):\n",
    "    #find films i haven't seen\n",
    "    new_films =  utility_std.loc[user,:][utility_std.loc[user,:].isnull()].index\n",
    "    recs = []\n",
    "    for new in new_films:\n",
    "        recs.append((new, rating_estimator_i2i(user,new)))\n",
    "    recs.sort(key=lambda x: x[1], reverse=True)\n",
    "    return recs[:10]\n",
    "    "
   ]
  },
  {
   "cell_type": "markdown",
   "metadata": {
    "slideshow": {
     "slide_type": "slide"
    }
   },
   "source": [
    "Here are the top 10 recommendations."
   ]
  },
  {
   "cell_type": "code",
   "execution_count": 63,
   "metadata": {
    "slideshow": {
     "slide_type": "-"
    }
   },
   "outputs": [
    {
     "data": {
      "text/plain": [
       "[('Shallow Grave', 5.1377753231080199),\n",
       " ('Notorious', 5.1253110202594039),\n",
       " ('City of Lost Children, The', 5.121163123691665),\n",
       " (\"Ulee's Gold\", 5.1160942304597592),\n",
       " ('Sunset Blvd.', 5.1061975974448979),\n",
       " ('Local Hero', 5.1020226304715015),\n",
       " ('Three Colors: White', 5.1012065475369104),\n",
       " ('Othello', 5.099629379233356),\n",
       " ('Roman Holiday', 5.0973576746098637),\n",
       " ('All About Eve', 5.0948249991176224)]"
      ]
     },
     "execution_count": 63,
     "metadata": {},
     "output_type": "execute_result"
    }
   ],
   "source": [
    "recommend_films_i2i(5)"
   ]
  },
  {
   "cell_type": "code",
   "execution_count": 94,
   "metadata": {
    "slideshow": {
     "slide_type": "slide"
    }
   },
   "outputs": [
    {
     "data": {
      "text/plain": [
       "title\n",
       "Clerks                                               6.41105\n",
       "Close Shave, A                                       6.41105\n",
       "Return of the Jedi                                   6.41105\n",
       "Return of the Pink Panther, The                      6.41105\n",
       "American Werewolf in London, An                      6.41105\n",
       "Serial Mom                                           6.41105\n",
       "Duck Soup                                            6.41105\n",
       "Mystery Science Theater 3000: The Movie              6.41105\n",
       "Blade Runner                                         6.41105\n",
       "Blues Brothers, The                                  6.41105\n",
       "Men in Black                                         6.41105\n",
       "Wrong Trousers, The                                  6.41105\n",
       "Brady Bunch Movie, The                               6.41105\n",
       "Star Trek: The Wrath of Khan                         6.41105\n",
       "Raiders of the Lost Ark                              6.41105\n",
       "Forbidden Planet                                     6.41105\n",
       "This Is Spinal Tap                                   6.41105\n",
       "Empire Strikes Back, The                             6.41105\n",
       "Fargo                                                6.41105\n",
       "Heathers                                             6.41105\n",
       "Harold and Maude                                     6.41105\n",
       "Adventures of Priscilla, Queen of the Desert, The    6.41105\n",
       "Grand Day Out, A                                     6.41105\n",
       "Heavy Metal                                          6.41105\n",
       "Fish Called Wanda, A                                 6.41105\n",
       "Name: 5, dtype: object"
      ]
     },
     "execution_count": 94,
     "metadata": {},
     "output_type": "execute_result"
    }
   ],
   "source": [
    "utility_std.loc[5,:].sort_values(ascending=False).head(25)"
   ]
  },
  {
   "cell_type": "markdown",
   "metadata": {
    "slideshow": {
     "slide_type": "slide"
    }
   },
   "source": [
    "## Conclusion\n",
    "\n",
    "We have looked at the major types of recommender systems in this lesson. Let's quickly wrap up by looking at the pros and cons of each.\n",
    "\n",
    "**Collaborative Filtering:**\n",
    "\n",
    "Pros:\n",
    "- No need to hand craft features\n",
    "\n",
    "Cons:\n",
    "- Needs a large existing set of ratings (cold-start problem)\n",
    "- Sparsity occurs when the number of items far exceeds what a person could purchase\n",
    "\n",
    "**Content-based Filtering:**\n",
    "\n",
    "Pros:\n",
    "- No need for a large number of users\n",
    "\n",
    "Cons:\n",
    "- Lacks serendipity... you're not going to find 'new' likes\n",
    "- May be difficult to generate the right features\n",
    "- Hard to create cross-content recommendations (different feature spaces)\n",
    "\n",
    "In fact, the best solution -- and the one most likely in use in any large-scale, production system is a combination of both of these. This is known as a **hybrid system**. By combining the two systems, you can get the best of both worlds."
   ]
  },
  {
   "cell_type": "markdown",
   "metadata": {
    "slideshow": {
     "slide_type": "slide"
    }
   },
   "source": [
    "## Independent practice:\n",
    "\n",
    "Now your turn!  Try to build on this recommender.  Here are some things you could try.\n",
    "- change the similarity metric (correlation / euclidean distance)\n",
    "- combine them to make a hybrid\n",
    "- change the amount of overlap required to calculate similarity\n",
    "- kmeans clustering!  It's still an unsupervised learning problem of grouping like with like.  How could you implement clustering here?"
   ]
  },
  {
   "cell_type": "markdown",
   "metadata": {
    "slideshow": {
     "slide_type": "slide"
    }
   },
   "source": [
    "## Additional Resources\n",
    "\n",
    "- [Wharton Study of Recommender Systems](http://knowledge.wharton.upenn.edu/article/recommended-for-you-how-well-does-personalized-marketing-work/)\n",
    "- [Netflix Recommendations](https://www.rtinsights.com/netflix-recommendations-machine-learning-algorithms/)\n",
    "- [Netflix Paper](http://dl.acm.org/citation.cfm?id=2843948)\n",
    "- [NY Times Rec System](https://open.blogs.nytimes.com/2015/08/11/building-the-next-new-york-times-recommendation-engine)\n",
    "- [Evaluating Rec Systems](https://www.quora.com/How-do-you-measure-and-evaluate-the-quality-of-recommendation-engines)\n",
    "- [How to build a rec system](http://blogs.gartner.com/martin-kihn/how-to-build-a-recommender-system-in-python/)"
   ]
  },
  {
   "cell_type": "code",
   "execution_count": null,
   "metadata": {
    "collapsed": true
   },
   "outputs": [],
   "source": []
  }
 ],
 "metadata": {
  "anaconda-cloud": {},
  "celltoolbar": "Slideshow",
  "kernelspec": {
   "display_name": "Python 2",
   "language": "python",
   "name": "python2"
  },
  "language_info": {
   "codemirror_mode": {
    "name": "ipython",
    "version": 2
   },
   "file_extension": ".py",
   "mimetype": "text/x-python",
   "name": "python",
   "nbconvert_exporter": "python",
   "pygments_lexer": "ipython2",
   "version": "2.7.13"
  }
 },
 "nbformat": 4,
 "nbformat_minor": 1
}
